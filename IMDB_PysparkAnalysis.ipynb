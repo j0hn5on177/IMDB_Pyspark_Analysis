{
 "cells": [
  {
   "cell_type": "markdown",
   "id": "73bc9548",
   "metadata": {},
   "source": [
    "# Analysis of IMDB Data"
   ]
  },
  {
   "cell_type": "markdown",
   "id": "7679c0c0",
   "metadata": {},
   "source": [
    "We will analyze a subset of IMDB's actors, genres, movie actors, and movie ratings data. This dataset comes to us from Kaggle (https://www.kaggle.com/datasets/ashirwadsangwan/imdb-dataset) although we have taken steps to pull this data into a publis s3 bucket: \n",
    "\n",
    "* s3://cis9760-lecture9-movieanalysis/name.basics.tsv ---> Name Basics\n",
    "* s3://cis9760-lecture9-movieanalysis/title.basics.tsv ---> Title Basics\n",
    "* s3://cis9760-lecture9-movieanalysis/title.principals.tsv ---> Title Principals\n",
    "* s3://cis9760-lecture9-movieanalysis/title.ratings.tsv ---> Title Ratings"
   ]
  },
  {
   "cell_type": "markdown",
   "id": "c1dde3fb",
   "metadata": {},
   "source": [
    "# Content\n",
    "\n",
    "**<br />name.basics.tsv.gz – Contains the following information for names:**\n",
    "<br />nconst (string) - alphanumeric unique identifier of the name/person.\n",
    "<br />primaryName (string)– name by which the person is most often credited.\n",
    "<br />birthYear – in YYYY format.\n",
    "<br />deathYear – in YYYY format if applicable, else .\n",
    "<br />primaryProfession (array of strings)– the top-3 professions of the person.\n",
    "<br />knownForTitles (array of tconsts) – titles the person is known for.\n",
    "<br/><br/>\n",
    "**<br />title.basics.tsv.gz - Contains the following information for titles:**\n",
    "<br />tconst (string) - alphanumeric unique identifier of the title.\n",
    "<br />titleType (string) – the type/format of the title (e.g. movie, short, tvseries, tvepisode, video, etc).\n",
    "<br />primaryTitle (string) – the more popular title / the title used by the filmmakers on promotional materials at the point of release.\n",
    "<br />originalTitle (string) - original title, in the original language.\n",
    "<br />isAdult (boolean) - 0: non-adult title; 1: adult title.\n",
    "<br />startYear (YYYY) – represents the release year of a title. In the case of TV Series, it is the series start year.\n",
    "<br />endYear (YYYY) – TV Series end year. for all other title types.\n",
    "<br />runtimeMinutes – primary runtime of the title, in minutes.\n",
    "<br />genres (string array) – includes up to three genres associated with the title.\n",
    "<br/><br/>\n",
    "**<br />title.principals.tsv – Contains the principal cast/crew for titles:**\n",
    "<br />tconst (string) - alphanumeric unique identifier of the title.\n",
    "<br />ordering (integer) – a number to uniquely identify rows for a given titleId.\n",
    "<br />nconst (string) - alphanumeric unique identifier of the name/person.\n",
    "<br />category (string) - the category of job that person was in.\n",
    "<br />job (string) - the specific job title if applicable, else.\n",
    "<br />characters (string) - the name of the character played if applicable, else.\n",
    "<br/><br/>\n",
    "**<br />title.ratings.tsv.gz – Contains the IMDb rating and votes information for titles:**\n",
    "<br />tconst (string) - alphanumeric unique identifier of the title.\n",
    "<br />averageRating – weighted average of all the individual user ratings.\n",
    "<br />numVotes - number of votes the title has received."
   ]
  },
  {
   "cell_type": "markdown",
   "id": "08416e6e",
   "metadata": {},
   "source": [
    "# PART 1 - Installation and Initial Setup"
   ]
  },
  {
   "cell_type": "markdown",
   "id": "04b07b9f",
   "metadata": {},
   "source": [
    "Begin by installing the necessary libraries that you may need to conduct your analysis. At the very least, you must install pandas and matplotlib"
   ]
  },
  {
   "cell_type": "code",
   "execution_count": 24,
   "id": "e0a576cf",
   "metadata": {
    "execution": {
     "iopub.execute_input": "2023-12-13T05:46:08.052780Z",
     "iopub.status.busy": "2023-12-13T05:46:08.052470Z",
     "iopub.status.idle": "2023-12-13T05:46:08.074635Z",
     "shell.execute_reply": "2023-12-13T05:46:08.073858Z",
     "shell.execute_reply.started": "2023-12-13T05:46:08.052755Z"
    },
    "tags": []
   },
   "outputs": [
    {
     "data": {
      "text/html": [
       "Current session configs: <tt>{'proxyUser': 'user_EMR-User', 'conf': {'spark.pyspark.python': 'python3', 'spark.pyspark.virtualenv.enabled': 'true', 'spark.pyspark.virtualenv.type': 'native', 'spark.pyspark.virtualenv.bin.path': '/usr/bin/virtualenv'}, 'kind': 'pyspark'}</tt><br>"
      ],
      "text/plain": [
       "<IPython.core.display.HTML object>"
      ]
     },
     "metadata": {},
     "output_type": "display_data"
    },
    {
     "data": {
      "text/html": [
       "<table>\n<tbody><tr><th>ID</th><th>YARN Application ID</th><th>Kind</th><th>State</th><th>Spark UI</th><th>Driver log</th><th>User</th><th>Current session?</th></tr><tr><td>2</td><td>application_1702414002450_0003</td><td>pyspark</td><td>idle</td><td><a target=\"_blank\" href=\"http://ip-172-31-39-17.us-east-2.compute.internal:20888/proxy/application_1702414002450_0003/\" class=\"emr-proxy-link j-1XEGIU4N6CNDF application_1702414002450_0003\" emr-resource=\"j-1XEGIU4N6CNDF\n\" application-id=\"application_1702414002450_0003\">Link</a></td><td><a target=\"_blank\" href=\"http://ip-172-31-42-214.us-east-2.compute.internal:8042/node/containerlogs/container_1702414002450_0003_01_000001/livy\">Link</a></td><td>None</td><td>✔</td></tr></tbody></table>"
      ],
      "text/plain": [
       "<IPython.core.display.HTML object>"
      ]
     },
     "metadata": {},
     "output_type": "display_data"
    }
   ],
   "source": [
    "%%info"
   ]
  },
  {
   "cell_type": "markdown",
   "id": "1fc39c6b",
   "metadata": {},
   "source": [
    "Let's install the necessary packages here"
   ]
  },
  {
   "cell_type": "code",
   "execution_count": 25,
   "id": "d3f3086f-404a-4f4d-b54e-df6e87fcb172",
   "metadata": {
    "execution": {
     "iopub.execute_input": "2023-12-13T05:46:08.076418Z",
     "iopub.status.busy": "2023-12-13T05:46:08.076062Z",
     "iopub.status.idle": "2023-12-13T05:46:08.320498Z",
     "shell.execute_reply": "2023-12-13T05:46:08.319767Z",
     "shell.execute_reply.started": "2023-12-13T05:46:08.076379Z"
    },
    "tags": []
   },
   "outputs": [
    {
     "data": {
      "application/vnd.jupyter.widget-view+json": {
       "model_id": "54e8e67f2ed24dc09968944c53489d49",
       "version_major": 2,
       "version_minor": 0
      },
      "text/plain": [
       "VBox()"
      ]
     },
     "metadata": {},
     "output_type": "display_data"
    },
    {
     "data": {
      "application/vnd.jupyter.widget-view+json": {
       "model_id": "9d01c57357ff454dbf9543ef960f65eb",
       "version_major": 2,
       "version_minor": 0
      },
      "text/plain": [
       "FloatProgress(value=0.0, bar_style='info', description='Progress:', layout=Layout(height='25px', width='50%'),…"
      ]
     },
     "metadata": {},
     "output_type": "display_data"
    },
    {
     "name": "stderr",
     "output_type": "stream",
     "text": [
      "An error was encountered:\n",
      "Package already installed for current Spark context!\n",
      "Traceback (most recent call last):\n",
      "  File \"/mnt1/yarn/usercache/livy/appcache/application_1702414002450_0003/container_1702414002450_0003_01_000001/pyspark.zip/pyspark/context.py\", line 2403, in install_pypi_package\n",
      "    raise ValueError(\"Package already installed for current Spark context!\")\n",
      "ValueError: Package already installed for current Spark context!\n",
      "\n"
     ]
    }
   ],
   "source": [
    "sc.install_pypi_package(\"pandas==1.0.5\")\n",
    "sc.install_pypi_package(\"matplotlib==3.2.1\")"
   ]
  },
  {
   "cell_type": "markdown",
   "id": "5ab05754",
   "metadata": {},
   "source": [
    "Now, import the installed packages from the previous block below."
   ]
  },
  {
   "cell_type": "code",
   "execution_count": 26,
   "id": "6d0a7012",
   "metadata": {
    "execution": {
     "iopub.execute_input": "2023-12-13T05:46:08.322010Z",
     "iopub.status.busy": "2023-12-13T05:46:08.321784Z",
     "iopub.status.idle": "2023-12-13T05:46:08.359159Z",
     "shell.execute_reply": "2023-12-13T05:46:08.358505Z",
     "shell.execute_reply.started": "2023-12-13T05:46:08.321988Z"
    },
    "tags": []
   },
   "outputs": [
    {
     "data": {
      "application/vnd.jupyter.widget-view+json": {
       "model_id": "e765b015a7a3477eab5b5da3b87cbc4c",
       "version_major": 2,
       "version_minor": 0
      },
      "text/plain": [
       "VBox()"
      ]
     },
     "metadata": {},
     "output_type": "display_data"
    },
    {
     "data": {
      "application/vnd.jupyter.widget-view+json": {
       "model_id": "acd19c92f3f04ced9acde6ec50271d1e",
       "version_major": 2,
       "version_minor": 0
      },
      "text/plain": [
       "FloatProgress(value=0.0, bar_style='info', description='Progress:', layout=Layout(height='25px', width='50%'),…"
      ]
     },
     "metadata": {},
     "output_type": "display_data"
    }
   ],
   "source": [
    "from pyspark.sql.functions import split, col, explode, countDistinct, mean, avg, first, last, max, min, format_number, count\n",
    "import pandas as pd\n",
    "import matplotlib.pyplot as plt\n"
   ]
  },
  {
   "cell_type": "markdown",
   "id": "e963f4ba",
   "metadata": {},
   "source": [
    "# Loading Data"
   ]
  },
  {
   "cell_type": "markdown",
   "id": "b4356189",
   "metadata": {},
   "source": [
    "Load all data from S3 into a Spark dataframe object "
   ]
  },
  {
   "cell_type": "code",
   "execution_count": 27,
   "id": "24beddd1",
   "metadata": {
    "execution": {
     "iopub.execute_input": "2023-12-13T05:46:08.360527Z",
     "iopub.status.busy": "2023-12-13T05:46:08.360293Z",
     "iopub.status.idle": "2023-12-13T05:46:17.648780Z",
     "shell.execute_reply": "2023-12-13T05:46:17.647863Z",
     "shell.execute_reply.started": "2023-12-13T05:46:08.360503Z"
    },
    "tags": []
   },
   "outputs": [
    {
     "data": {
      "application/vnd.jupyter.widget-view+json": {
       "model_id": "957be01cd2e34e199d410bf5d9efd62c",
       "version_major": 2,
       "version_minor": 0
      },
      "text/plain": [
       "VBox()"
      ]
     },
     "metadata": {},
     "output_type": "display_data"
    },
    {
     "data": {
      "application/vnd.jupyter.widget-view+json": {
       "model_id": "",
       "version_major": 2,
       "version_minor": 0
      },
      "text/plain": [
       "FloatProgress(value=0.0, bar_style='info', description='Progress:', layout=Layout(height='25px', width='50%'),…"
      ]
     },
     "metadata": {},
     "output_type": "display_data"
    }
   ],
   "source": [
    "name = spark.read.csv('s3://cis9760-lecture9-movieanalysis/name.basics.tsv', sep=r'\\t', header=True)\n",
    "titles = spark.read.csv('s3://cis9760-lecture9-movieanalysis/title.basics.tsv', sep=r'\\t', header=True)\n",
    "principals = spark.read.csv('s3://cis9760-lecture9-movieanalysis/title.principals.tsv', sep=r'\\t', header=True)\n",
    "ratings = spark.read.csv('s3://cis9760-lecture9-movieanalysis/title.ratings.tsv', sep=r'\\t', header=True)"
   ]
  },
  {
   "cell_type": "markdown",
   "id": "c65401c7",
   "metadata": {},
   "source": [
    "## Name Basics"
   ]
  },
  {
   "cell_type": "markdown",
   "id": "03981851",
   "metadata": {},
   "source": [
    "Display the schema below:"
   ]
  },
  {
   "cell_type": "code",
   "execution_count": 28,
   "id": "98b95e51",
   "metadata": {
    "execution": {
     "iopub.execute_input": "2023-12-13T05:46:17.650585Z",
     "iopub.status.busy": "2023-12-13T05:46:17.650251Z",
     "iopub.status.idle": "2023-12-13T05:46:17.703289Z",
     "shell.execute_reply": "2023-12-13T05:46:17.702659Z",
     "shell.execute_reply.started": "2023-12-13T05:46:17.650546Z"
    },
    "tags": []
   },
   "outputs": [
    {
     "data": {
      "application/vnd.jupyter.widget-view+json": {
       "model_id": "a46d4088df1440929e52e3804b1031f1",
       "version_major": 2,
       "version_minor": 0
      },
      "text/plain": [
       "VBox()"
      ]
     },
     "metadata": {},
     "output_type": "display_data"
    },
    {
     "data": {
      "application/vnd.jupyter.widget-view+json": {
       "model_id": "d93ce3e73938441092fb4e1e6c5ad9d4",
       "version_major": 2,
       "version_minor": 0
      },
      "text/plain": [
       "FloatProgress(value=0.0, bar_style='info', description='Progress:', layout=Layout(height='25px', width='50%'),…"
      ]
     },
     "metadata": {},
     "output_type": "display_data"
    },
    {
     "name": "stdout",
     "output_type": "stream",
     "text": [
      "root\n",
      " |-- nconst: string (nullable = true)\n",
      " |-- primaryName: string (nullable = true)\n",
      " |-- birthYear: string (nullable = true)\n",
      " |-- deathYear: string (nullable = true)\n",
      " |-- primaryProfession: string (nullable = true)\n",
      " |-- knownForTitles: string (nullable = true)"
     ]
    }
   ],
   "source": [
    "name.printSchema()"
   ]
  },
  {
   "cell_type": "markdown",
   "id": "dfd8a219",
   "metadata": {},
   "source": [
    "Display the first 5 rows with the following columns:\n",
    "\n",
    "* `primaryName`\n",
    "* `birthYear`\n",
    "* `deathYear`\n",
    "* `knownForTitles`"
   ]
  },
  {
   "cell_type": "code",
   "execution_count": 29,
   "id": "29db2340",
   "metadata": {
    "execution": {
     "iopub.execute_input": "2023-12-13T05:46:17.706083Z",
     "iopub.status.busy": "2023-12-13T05:46:17.705846Z",
     "iopub.status.idle": "2023-12-13T05:46:18.466925Z",
     "shell.execute_reply": "2023-12-13T05:46:18.466057Z",
     "shell.execute_reply.started": "2023-12-13T05:46:17.706060Z"
    },
    "tags": []
   },
   "outputs": [
    {
     "data": {
      "application/vnd.jupyter.widget-view+json": {
       "model_id": "13e98846d2124848b6d34634d7247691",
       "version_major": 2,
       "version_minor": 0
      },
      "text/plain": [
       "VBox()"
      ]
     },
     "metadata": {},
     "output_type": "display_data"
    },
    {
     "data": {
      "application/vnd.jupyter.widget-view+json": {
       "model_id": "",
       "version_major": 2,
       "version_minor": 0
      },
      "text/plain": [
       "FloatProgress(value=0.0, bar_style='info', description='Progress:', layout=Layout(height='25px', width='50%'),…"
      ]
     },
     "metadata": {},
     "output_type": "display_data"
    },
    {
     "name": "stdout",
     "output_type": "stream",
     "text": [
      "+---------------+---------+---------+--------------------+\n",
      "|    primaryName|birthYear|deathYear|      knownForTitles|\n",
      "+---------------+---------+---------+--------------------+\n",
      "|   Fred Astaire|     1899|     1987|tt0050419,tt00531...|\n",
      "|  Lauren Bacall|     1924|     2014|tt0071877,tt01170...|\n",
      "|Brigitte Bardot|     1934|       \\N|tt0054452,tt00491...|\n",
      "|   John Belushi|     1949|     1982|tt0077975,tt00725...|\n",
      "| Ingmar Bergman|     1918|     2007|tt0069467,tt00509...|\n",
      "+---------------+---------+---------+--------------------+\n",
      "only showing top 5 rows"
     ]
    }
   ],
   "source": [
    "name.select(\"primaryName\", \"birthYear\", \"deathYear\", \"knownForTitles\").show(5)\n"
   ]
  },
  {
   "cell_type": "markdown",
   "id": "65371453",
   "metadata": {},
   "source": [
    "## Title Basics"
   ]
  },
  {
   "cell_type": "markdown",
   "id": "b95d8c5a",
   "metadata": {},
   "source": [
    "Display the first 15 rows with the following columns:\n",
    "    \n",
    "* `titleType`\n",
    "* `primaryTitle`\n",
    "* `genres`"
   ]
  },
  {
   "cell_type": "code",
   "execution_count": 30,
   "id": "74c95177",
   "metadata": {
    "execution": {
     "iopub.execute_input": "2023-12-13T05:46:18.470085Z",
     "iopub.status.busy": "2023-12-13T05:46:18.469771Z",
     "iopub.status.idle": "2023-12-13T05:46:18.715232Z",
     "shell.execute_reply": "2023-12-13T05:46:18.714390Z",
     "shell.execute_reply.started": "2023-12-13T05:46:18.470059Z"
    },
    "tags": []
   },
   "outputs": [
    {
     "data": {
      "application/vnd.jupyter.widget-view+json": {
       "model_id": "970f3746d0d04dd2824b039b22830f60",
       "version_major": 2,
       "version_minor": 0
      },
      "text/plain": [
       "VBox()"
      ]
     },
     "metadata": {},
     "output_type": "display_data"
    },
    {
     "data": {
      "application/vnd.jupyter.widget-view+json": {
       "model_id": "d33db21adfd8452fa8afdfbdf61f073d",
       "version_major": 2,
       "version_minor": 0
      },
      "text/plain": [
       "FloatProgress(value=0.0, bar_style='info', description='Progress:', layout=Layout(height='25px', width='50%'),…"
      ]
     },
     "metadata": {},
     "output_type": "display_data"
    },
    {
     "name": "stdout",
     "output_type": "stream",
     "text": [
      "+---------+--------------------+--------------------+\n",
      "|titleType|        primaryTitle|              genres|\n",
      "+---------+--------------------+--------------------+\n",
      "|    short|          Carmencita|   Documentary,Short|\n",
      "|    short|Le clown et ses c...|     Animation,Short|\n",
      "|    short|      Pauvre Pierrot|Animation,Comedy,...|\n",
      "|    short|         Un bon bock|     Animation,Short|\n",
      "|    short|    Blacksmith Scene|        Comedy,Short|\n",
      "|    short|   Chinese Opium Den|               Short|\n",
      "|    short|Corbett and Court...|         Short,Sport|\n",
      "|    short|Edison Kinetoscop...|   Documentary,Short|\n",
      "|    movie|          Miss Jerry|             Romance|\n",
      "|    short| Exiting the Factory|   Documentary,Short|\n",
      "|    short|Akrobatisches Pot...|   Documentary,Short|\n",
      "|    short|The Arrival of a ...|Action,Documentar...|\n",
      "|    short|The Photographica...|   Documentary,Short|\n",
      "|    short|The Sprinkler Spr...|        Comedy,Short|\n",
      "|    short| Autour d'une cabine|     Animation,Short|\n",
      "+---------+--------------------+--------------------+\n",
      "only showing top 15 rows"
     ]
    }
   ],
   "source": [
    "titles.select(\"titleType\", \"primaryTitle\", \"genres\").show(15)"
   ]
  },
  {
   "cell_type": "markdown",
   "id": "f3852bb4",
   "metadata": {},
   "source": [
    "Display the unique titles below:"
   ]
  },
  {
   "cell_type": "code",
   "execution_count": 31,
   "id": "2a28caff",
   "metadata": {
    "execution": {
     "iopub.execute_input": "2023-12-13T05:46:18.716854Z",
     "iopub.status.busy": "2023-12-13T05:46:18.716613Z",
     "iopub.status.idle": "2023-12-13T05:46:27.992334Z",
     "shell.execute_reply": "2023-12-13T05:46:27.991596Z",
     "shell.execute_reply.started": "2023-12-13T05:46:18.716830Z"
    },
    "tags": []
   },
   "outputs": [
    {
     "data": {
      "application/vnd.jupyter.widget-view+json": {
       "model_id": "56f476e699244d5d8f991a59b935c59d",
       "version_major": 2,
       "version_minor": 0
      },
      "text/plain": [
       "VBox()"
      ]
     },
     "metadata": {},
     "output_type": "display_data"
    },
    {
     "data": {
      "application/vnd.jupyter.widget-view+json": {
       "model_id": "",
       "version_major": 2,
       "version_minor": 0
      },
      "text/plain": [
       "FloatProgress(value=0.0, bar_style='info', description='Progress:', layout=Layout(height='25px', width='50%'),…"
      ]
     },
     "metadata": {},
     "output_type": "display_data"
    },
    {
     "name": "stdout",
     "output_type": "stream",
     "text": [
      "+------------+\n",
      "|   titleType|\n",
      "+------------+\n",
      "|    tvSeries|\n",
      "|tvMiniSeries|\n",
      "|       movie|\n",
      "|   videoGame|\n",
      "|   tvSpecial|\n",
      "|       video|\n",
      "|     tvMovie|\n",
      "|   tvEpisode|\n",
      "|     tvShort|\n",
      "|       short|\n",
      "+------------+"
     ]
    }
   ],
   "source": [
    "titles.select(\"titleType\").distinct().show()"
   ]
  },
  {
   "cell_type": "markdown",
   "id": "d8f3c92f",
   "metadata": {},
   "source": [
    "Display the schema below:"
   ]
  },
  {
   "cell_type": "code",
   "execution_count": 32,
   "id": "8334d2fe",
   "metadata": {
    "execution": {
     "iopub.execute_input": "2023-12-13T05:46:27.993812Z",
     "iopub.status.busy": "2023-12-13T05:46:27.993477Z",
     "iopub.status.idle": "2023-12-13T05:46:28.032557Z",
     "shell.execute_reply": "2023-12-13T05:46:28.031704Z",
     "shell.execute_reply.started": "2023-12-13T05:46:27.993777Z"
    },
    "tags": []
   },
   "outputs": [
    {
     "data": {
      "application/vnd.jupyter.widget-view+json": {
       "model_id": "6101ec8844784ceea5a6da1bb250ed2c",
       "version_major": 2,
       "version_minor": 0
      },
      "text/plain": [
       "VBox()"
      ]
     },
     "metadata": {},
     "output_type": "display_data"
    },
    {
     "data": {
      "application/vnd.jupyter.widget-view+json": {
       "model_id": "1a13a433856f455f8ee295527a0ff9d1",
       "version_major": 2,
       "version_minor": 0
      },
      "text/plain": [
       "FloatProgress(value=0.0, bar_style='info', description='Progress:', layout=Layout(height='25px', width='50%'),…"
      ]
     },
     "metadata": {},
     "output_type": "display_data"
    },
    {
     "name": "stdout",
     "output_type": "stream",
     "text": [
      "root\n",
      " |-- tconst: string (nullable = true)\n",
      " |-- titleType: string (nullable = true)\n",
      " |-- primaryTitle: string (nullable = true)\n",
      " |-- originalTitle: string (nullable = true)\n",
      " |-- isAdult: string (nullable = true)\n",
      " |-- startYear: string (nullable = true)\n",
      " |-- endYear: string (nullable = true)\n",
      " |-- runtimeMinutes: string (nullable = true)\n",
      " |-- genres: string (nullable = true)"
     ]
    }
   ],
   "source": [
    "titles.printSchema()"
   ]
  },
  {
   "cell_type": "markdown",
   "id": "bf21e1b7",
   "metadata": {},
   "source": [
    "## Title Principals"
   ]
  },
  {
   "cell_type": "markdown",
   "id": "442830b8",
   "metadata": {},
   "source": [
    "Display the schema below:"
   ]
  },
  {
   "cell_type": "code",
   "execution_count": 33,
   "id": "b7241872",
   "metadata": {
    "execution": {
     "iopub.execute_input": "2023-12-13T05:46:28.033731Z",
     "iopub.status.busy": "2023-12-13T05:46:28.033511Z",
     "iopub.status.idle": "2023-12-13T05:46:28.075144Z",
     "shell.execute_reply": "2023-12-13T05:46:28.074385Z",
     "shell.execute_reply.started": "2023-12-13T05:46:28.033709Z"
    },
    "tags": []
   },
   "outputs": [
    {
     "data": {
      "application/vnd.jupyter.widget-view+json": {
       "model_id": "7dc25ebcb8a7426d92bd1c91f6d85ab9",
       "version_major": 2,
       "version_minor": 0
      },
      "text/plain": [
       "VBox()"
      ]
     },
     "metadata": {},
     "output_type": "display_data"
    },
    {
     "data": {
      "application/vnd.jupyter.widget-view+json": {
       "model_id": "de127f17f1fb4c62bfbd1010d6f0103c",
       "version_major": 2,
       "version_minor": 0
      },
      "text/plain": [
       "FloatProgress(value=0.0, bar_style='info', description='Progress:', layout=Layout(height='25px', width='50%'),…"
      ]
     },
     "metadata": {},
     "output_type": "display_data"
    },
    {
     "name": "stdout",
     "output_type": "stream",
     "text": [
      "root\n",
      " |-- tconst: string (nullable = true)\n",
      " |-- ordering: string (nullable = true)\n",
      " |-- nconst: string (nullable = true)\n",
      " |-- category: string (nullable = true)\n",
      " |-- job: string (nullable = true)\n",
      " |-- characters: string (nullable = true)"
     ]
    }
   ],
   "source": [
    "principals.printSchema()"
   ]
  },
  {
   "cell_type": "markdown",
   "id": "e24870d3",
   "metadata": {},
   "source": [
    "Display the first 15 rows where the \"category\" column is \"self\""
   ]
  },
  {
   "cell_type": "code",
   "execution_count": 34,
   "id": "3f6dbef1",
   "metadata": {
    "execution": {
     "iopub.execute_input": "2023-12-13T05:46:28.076253Z",
     "iopub.status.busy": "2023-12-13T05:46:28.076038Z",
     "iopub.status.idle": "2023-12-13T05:46:28.824410Z",
     "shell.execute_reply": "2023-12-13T05:46:28.823550Z",
     "shell.execute_reply.started": "2023-12-13T05:46:28.076232Z"
    },
    "tags": []
   },
   "outputs": [
    {
     "data": {
      "application/vnd.jupyter.widget-view+json": {
       "model_id": "eb503c623064453e89683f4fb3522bec",
       "version_major": 2,
       "version_minor": 0
      },
      "text/plain": [
       "VBox()"
      ]
     },
     "metadata": {},
     "output_type": "display_data"
    },
    {
     "data": {
      "application/vnd.jupyter.widget-view+json": {
       "model_id": "",
       "version_major": 2,
       "version_minor": 0
      },
      "text/plain": [
       "FloatProgress(value=0.0, bar_style='info', description='Progress:', layout=Layout(height='25px', width='50%'),…"
      ]
     },
     "metadata": {},
     "output_type": "display_data"
    },
    {
     "name": "stdout",
     "output_type": "stream",
     "text": [
      "+---------+--------+---------+--------+---+--------------------+\n",
      "|   tconst|ordering|   nconst|category|job|          characters|\n",
      "+---------+--------+---------+--------+---+--------------------+\n",
      "|tt0000001|       1|nm1588970|    self| \\N|         [\"Herself\"]|\n",
      "|tt0000012|       1|nm2880396|    self| \\N|         [\"Herself\"]|\n",
      "|tt0000012|       2|nm9735580|    self| \\N|         [\"Himself\"]|\n",
      "|tt0000012|       3|nm0525900|    self| \\N|         [\"Herself\"]|\n",
      "|tt0000012|       4|nm9735581|    self| \\N|         [\"Herself\"]|\n",
      "|tt0000012|       7|nm9735579|    self| \\N|         [\"Herself\"]|\n",
      "|tt0000012|       8|nm9653419|    self| \\N|         [\"Herself\"]|\n",
      "|tt0000013|       1|nm0525908|    self| \\N|         [\"Himself\"]|\n",
      "|tt0000013|       2|nm1715062|    self| \\N|         [\"Himself\"]|\n",
      "|tt0000016|       1|nm0525900|    self| \\N|[\"Herself (on the...|\n",
      "|tt0000016|       2|nm9735581|    self| \\N|[\"Herself (on the...|\n",
      "|tt0000024|       1|nm0256651|    self| \\N|[\"Herself - Empre...|\n",
      "|tt0000024|       2|nm0435118|    self| \\N|[\"Himself - Emper...|\n",
      "|tt0000028|       1|nm2350838|    self| \\N|         [\"Himself\"]|\n",
      "|tt0000028|       2|nm0525908|    self| \\N|         [\"Himself\"]|\n",
      "+---------+--------+---------+--------+---+--------------------+\n",
      "only showing top 15 rows"
     ]
    }
   ],
   "source": [
    "principals.filter(col(\"category\") == \"self\").show(15)"
   ]
  },
  {
   "cell_type": "markdown",
   "id": "d8e128fc",
   "metadata": {},
   "source": [
    "## Title Ratings"
   ]
  },
  {
   "cell_type": "markdown",
   "id": "c40d60cd",
   "metadata": {},
   "source": [
    "Display the schema below:"
   ]
  },
  {
   "cell_type": "code",
   "execution_count": 35,
   "id": "1ed78395",
   "metadata": {
    "execution": {
     "iopub.execute_input": "2023-12-13T05:46:28.825876Z",
     "iopub.status.busy": "2023-12-13T05:46:28.825545Z",
     "iopub.status.idle": "2023-12-13T05:46:28.869180Z",
     "shell.execute_reply": "2023-12-13T05:46:28.868515Z",
     "shell.execute_reply.started": "2023-12-13T05:46:28.825840Z"
    },
    "tags": []
   },
   "outputs": [
    {
     "data": {
      "application/vnd.jupyter.widget-view+json": {
       "model_id": "13c012fb1633449f8b85d4d43bdff78e",
       "version_major": 2,
       "version_minor": 0
      },
      "text/plain": [
       "VBox()"
      ]
     },
     "metadata": {},
     "output_type": "display_data"
    },
    {
     "data": {
      "application/vnd.jupyter.widget-view+json": {
       "model_id": "bf6c85a3417648cc9005fd3c6585a986",
       "version_major": 2,
       "version_minor": 0
      },
      "text/plain": [
       "FloatProgress(value=0.0, bar_style='info', description='Progress:', layout=Layout(height='25px', width='50%'),…"
      ]
     },
     "metadata": {},
     "output_type": "display_data"
    },
    {
     "name": "stdout",
     "output_type": "stream",
     "text": [
      "root\n",
      " |-- tconst: string (nullable = true)\n",
      " |-- averageRating: string (nullable = true)\n",
      " |-- numVotes: string (nullable = true)"
     ]
    }
   ],
   "source": [
    "ratings.printSchema()"
   ]
  },
  {
   "cell_type": "code",
   "execution_count": 36,
   "id": "9244f5ac-ae84-479a-8d56-c24e04fe251d",
   "metadata": {
    "execution": {
     "iopub.execute_input": "2023-12-13T05:46:28.870344Z",
     "iopub.status.busy": "2023-12-13T05:46:28.870095Z",
     "iopub.status.idle": "2023-12-13T05:46:31.125696Z",
     "shell.execute_reply": "2023-12-13T05:46:31.124856Z",
     "shell.execute_reply.started": "2023-12-13T05:46:28.870320Z"
    },
    "tags": []
   },
   "outputs": [
    {
     "data": {
      "application/vnd.jupyter.widget-view+json": {
       "model_id": "28be5b89ec9249c289692e9219c6304e",
       "version_major": 2,
       "version_minor": 0
      },
      "text/plain": [
       "VBox()"
      ]
     },
     "metadata": {},
     "output_type": "display_data"
    },
    {
     "data": {
      "application/vnd.jupyter.widget-view+json": {
       "model_id": "",
       "version_major": 2,
       "version_minor": 0
      },
      "text/plain": [
       "FloatProgress(value=0.0, bar_style='info', description='Progress:', layout=Layout(height='25px', width='50%'),…"
      ]
     },
     "metadata": {},
     "output_type": "display_data"
    },
    {
     "name": "stdout",
     "output_type": "stream",
     "text": [
      "+---------+-------------+---------+\n",
      "|   tconst|averageRating| numVotes|\n",
      "+---------+-------------+---------+\n",
      "|tt0111161|          9.3|2159745.0|\n",
      "|tt0468569|          9.0|2134602.0|\n",
      "|tt1375666|          8.8|1892958.0|\n",
      "|tt0137523|          8.8|1725444.0|\n",
      "|tt0110912|          8.9|1695159.0|\n",
      "|tt0109830|          8.8|1662609.0|\n",
      "|tt0944947|          9.4|1606096.0|\n",
      "|tt0133093|          8.7|1554345.0|\n",
      "|tt0120737|          8.8|1548920.0|\n",
      "|tt0167260|          8.9|1533632.0|\n",
      "+---------+-------------+---------+\n",
      "only showing top 10 rows"
     ]
    }
   ],
   "source": [
    "cast_votes = ratings.withColumn(\"numVotes\", col(\"numVotes\").cast(\"float\"))\n",
    "r = cast_votes.select(\"tconst\", \"averageRating\", \"numVotes\").orderBy(col(\"numVotes\").desc())\n",
    "r.show(10)"
   ]
  },
  {
   "cell_type": "markdown",
   "id": "76ac1ac7",
   "metadata": {},
   "source": [
    "Display the first 10 rows in a descending order by the number of votes"
   ]
  },
  {
   "cell_type": "markdown",
   "id": "e77cf460",
   "metadata": {},
   "source": [
    "# Overview of Data"
   ]
  },
  {
   "cell_type": "markdown",
   "id": "2bc943bf",
   "metadata": {},
   "source": [
    "Display the number of rows and columns in each dataFrame object."
   ]
  },
  {
   "cell_type": "code",
   "execution_count": 37,
   "id": "15b35f7a",
   "metadata": {
    "execution": {
     "iopub.execute_input": "2023-12-13T05:46:31.126899Z",
     "iopub.status.busy": "2023-12-13T05:46:31.126675Z",
     "iopub.status.idle": "2023-12-13T05:46:50.459597Z",
     "shell.execute_reply": "2023-12-13T05:46:50.458708Z",
     "shell.execute_reply.started": "2023-12-13T05:46:31.126876Z"
    },
    "tags": []
   },
   "outputs": [
    {
     "data": {
      "application/vnd.jupyter.widget-view+json": {
       "model_id": "3171aec0fe1c47a896d8afd7dfbacf8c",
       "version_major": 2,
       "version_minor": 0
      },
      "text/plain": [
       "VBox()"
      ]
     },
     "metadata": {},
     "output_type": "display_data"
    },
    {
     "data": {
      "application/vnd.jupyter.widget-view+json": {
       "model_id": "",
       "version_major": 2,
       "version_minor": 0
      },
      "text/plain": [
       "FloatProgress(value=0.0, bar_style='info', description='Progress:', layout=Layout(height='25px', width='50%'),…"
      ]
     },
     "metadata": {},
     "output_type": "display_data"
    },
    {
     "name": "stdout",
     "output_type": "stream",
     "text": [
      "Number of columns in Name Basics table:  6\n",
      "Number of rows in Name Basics table:  9706922\n",
      "\n",
      "\n",
      "Number of columns in Title Basics table:  9\n",
      "Number of rows in Title Basics table:  6321302\n",
      "\n",
      "\n",
      "Number of columns in Title Principals table:  6\n",
      "Number of rows in Title Principals table:  36468817\n",
      "\n",
      "\n",
      "Number of columns in Title Ratings table:  3\n",
      "Number of rows in Title Ratings table:  993153"
     ]
    }
   ],
   "source": [
    "print(\"Number of columns in Name Basics table: \", len(name.columns) )\n",
    "print(\"Number of rows in Name Basics table: \", name.count() )\n",
    "print(\"\\n\")\n",
    "\n",
    "print(\"Number of columns in Title Basics table: \", len(titles.columns) )\n",
    "print(\"Number of rows in Title Basics table: \", titles.count() )\n",
    "print(\"\\n\")\n",
    "\n",
    "print(\"Number of columns in Title Principals table: \", len(principals.columns) )\n",
    "print(\"Number of rows in Title Principals table: \", principals.count() )\n",
    "print(\"\\n\")\n",
    "\n",
    "print(\"Number of columns in Title Ratings table: \", len(ratings.columns) )\n",
    "print(\"Number of rows in Title Ratings table: \", ratings.count() )"
   ]
  },
  {
   "cell_type": "markdown",
   "id": "b45c87a7",
   "metadata": {},
   "source": [
    "# PART 2 - Analyzing Genres"
   ]
  },
  {
   "cell_type": "markdown",
   "id": "37c839bd",
   "metadata": {},
   "source": [
    "Let's now answer this question: how many unique genres are represented in this dataset?\n",
    "\n",
    "Essentially, we have the genres per movie as a list - this is useful to quickly see what each movie might be represented as but it is difficult to easily answer questions such as:\n",
    "\n",
    "* How many movies are categorized as Comedy, for instance?\n",
    "* What are the top 20 most popular genres available?"
   ]
  },
  {
   "cell_type": "markdown",
   "id": "509eb185",
   "metadata": {},
   "source": [
    "## Association Table\n",
    "\n",
    "We need to \"break out\" these genres from the tconst? One common approach to take is to build an association table mapping a single tconst multiple times to each distinct genre.\n",
    "\n",
    "For instance, given the following:\n",
    "\n",
    "\n",
    "| tconst   | titleType  |genres |\n",
    "|----------|------------|-------|\n",
    "| abcd123  | XXX        |a,b,c  |\n",
    "\n",
    "We would like to derive something like:\n",
    "\n",
    "| tconst   |  titleType |genre |\n",
    "|----------|------------|------|\n",
    "| abcd123  | XXX        |a     |\n",
    "| abcd123  | XXX        |b     |\n",
    "| abcd123  | XXX        |c     |\n",
    "\n",
    "\n",
    "What this does is allow us to then perform a myriad of rollups and other analysis on this association table which can aid us in answering the questions asked above.\n",
    "\n",
    "Implement the code necessary to derive the table described from the data set"
   ]
  },
  {
   "cell_type": "code",
   "execution_count": 38,
   "id": "6da24c15",
   "metadata": {
    "execution": {
     "iopub.execute_input": "2023-12-13T05:46:50.460930Z",
     "iopub.status.busy": "2023-12-13T05:46:50.460616Z",
     "iopub.status.idle": "2023-12-13T05:46:50.709701Z",
     "shell.execute_reply": "2023-12-13T05:46:50.708887Z",
     "shell.execute_reply.started": "2023-12-13T05:46:50.460897Z"
    },
    "tags": []
   },
   "outputs": [
    {
     "data": {
      "application/vnd.jupyter.widget-view+json": {
       "model_id": "93401e18cb3545b2a84b09ec643897ff",
       "version_major": 2,
       "version_minor": 0
      },
      "text/plain": [
       "VBox()"
      ]
     },
     "metadata": {},
     "output_type": "display_data"
    },
    {
     "data": {
      "application/vnd.jupyter.widget-view+json": {
       "model_id": "23c9c041625d4d23804bc728aea5974e",
       "version_major": 2,
       "version_minor": 0
      },
      "text/plain": [
       "FloatProgress(value=0.0, bar_style='info', description='Progress:', layout=Layout(height='25px', width='50%'),…"
      ]
     },
     "metadata": {},
     "output_type": "display_data"
    },
    {
     "name": "stdout",
     "output_type": "stream",
     "text": [
      "+---------+---------+--------------------+\n",
      "|   tconst|titleType|              genres|\n",
      "+---------+---------+--------------------+\n",
      "|tt0000001|    short|   Documentary,Short|\n",
      "|tt0000002|    short|     Animation,Short|\n",
      "|tt0000003|    short|Animation,Comedy,...|\n",
      "|tt0000004|    short|     Animation,Short|\n",
      "|tt0000005|    short|        Comedy,Short|\n",
      "+---------+---------+--------------------+\n",
      "only showing top 5 rows"
     ]
    }
   ],
   "source": [
    "titles.select(\"tconst\",\"titleType\",\"genres\").show(5)"
   ]
  },
  {
   "cell_type": "markdown",
   "id": "7e215c7e",
   "metadata": {},
   "source": [
    "Display the first 10 rows of your association table below"
   ]
  },
  {
   "cell_type": "code",
   "execution_count": 39,
   "id": "eee1cc98",
   "metadata": {
    "execution": {
     "iopub.execute_input": "2023-12-13T05:46:50.711307Z",
     "iopub.status.busy": "2023-12-13T05:46:50.710953Z",
     "iopub.status.idle": "2023-12-13T05:46:50.955259Z",
     "shell.execute_reply": "2023-12-13T05:46:50.954420Z",
     "shell.execute_reply.started": "2023-12-13T05:46:50.711271Z"
    },
    "tags": []
   },
   "outputs": [
    {
     "data": {
      "application/vnd.jupyter.widget-view+json": {
       "model_id": "3e88f9baf5d8445e80fc2b1b50550fb6",
       "version_major": 2,
       "version_minor": 0
      },
      "text/plain": [
       "VBox()"
      ]
     },
     "metadata": {},
     "output_type": "display_data"
    },
    {
     "data": {
      "application/vnd.jupyter.widget-view+json": {
       "model_id": "7021d88e288f44578021dfd0c4eace67",
       "version_major": 2,
       "version_minor": 0
      },
      "text/plain": [
       "FloatProgress(value=0.0, bar_style='info', description='Progress:', layout=Layout(height='25px', width='50%'),…"
      ]
     },
     "metadata": {},
     "output_type": "display_data"
    },
    {
     "name": "stdout",
     "output_type": "stream",
     "text": [
      "+---------+---------+-----------+\n",
      "|   tconst|titleType|      genre|\n",
      "+---------+---------+-----------+\n",
      "|tt0000001|    short|Documentary|\n",
      "|tt0000001|    short|      Short|\n",
      "|tt0000002|    short|  Animation|\n",
      "|tt0000002|    short|      Short|\n",
      "|tt0000003|    short|  Animation|\n",
      "|tt0000003|    short|     Comedy|\n",
      "|tt0000003|    short|    Romance|\n",
      "|tt0000004|    short|  Animation|\n",
      "|tt0000004|    short|      Short|\n",
      "|tt0000005|    short|     Comedy|\n",
      "+---------+---------+-----------+\n",
      "only showing top 10 rows"
     ]
    }
   ],
   "source": [
    "new_titles = titles.withColumn(\"genre\", explode(split(\"genres\", \",\"))).select(\"*\").drop(\"genres\")\n",
    "new_titles.select(\"tconst\", \"titleType\", \"genre\").show(10)"
   ]
  },
  {
   "cell_type": "markdown",
   "id": "9a80280d",
   "metadata": {},
   "source": [
    "## Total Unique Genres"
   ]
  },
  {
   "cell_type": "markdown",
   "id": "b0db9e0c",
   "metadata": {},
   "source": [
    "**What is the total number of unique genres available in the movie title type?**"
   ]
  },
  {
   "cell_type": "code",
   "execution_count": 40,
   "id": "c6044252",
   "metadata": {
    "execution": {
     "iopub.execute_input": "2023-12-13T05:46:50.956446Z",
     "iopub.status.busy": "2023-12-13T05:46:50.956217Z",
     "iopub.status.idle": "2023-12-13T05:46:58.231470Z",
     "shell.execute_reply": "2023-12-13T05:46:58.230803Z",
     "shell.execute_reply.started": "2023-12-13T05:46:50.956422Z"
    },
    "tags": []
   },
   "outputs": [
    {
     "data": {
      "application/vnd.jupyter.widget-view+json": {
       "model_id": "66be2e34ad0b4526b834c5d6fdb59d50",
       "version_major": 2,
       "version_minor": 0
      },
      "text/plain": [
       "VBox()"
      ]
     },
     "metadata": {},
     "output_type": "display_data"
    },
    {
     "data": {
      "application/vnd.jupyter.widget-view+json": {
       "model_id": "",
       "version_major": 2,
       "version_minor": 0
      },
      "text/plain": [
       "FloatProgress(value=0.0, bar_style='info', description='Progress:', layout=Layout(height='25px', width='50%'),…"
      ]
     },
     "metadata": {},
     "output_type": "display_data"
    },
    {
     "name": "stdout",
     "output_type": "stream",
     "text": [
      "29"
     ]
    }
   ],
   "source": [
    "movies = new_titles.filter(col(\"titleType\") == \"movie\")\n",
    "uniques = movies.select(\"genre\").distinct()\n",
    "uniques.count()"
   ]
  },
  {
   "cell_type": "markdown",
   "id": "5819adcc",
   "metadata": {},
   "source": [
    "**What are the unique genres available?**"
   ]
  },
  {
   "cell_type": "code",
   "execution_count": 41,
   "id": "2ecdf3ad",
   "metadata": {
    "execution": {
     "iopub.execute_input": "2023-12-13T05:46:58.232941Z",
     "iopub.status.busy": "2023-12-13T05:46:58.232614Z",
     "iopub.status.idle": "2023-12-13T05:47:05.500778Z",
     "shell.execute_reply": "2023-12-13T05:47:05.499975Z",
     "shell.execute_reply.started": "2023-12-13T05:46:58.232907Z"
    },
    "tags": []
   },
   "outputs": [
    {
     "data": {
      "application/vnd.jupyter.widget-view+json": {
       "model_id": "5c707a176d404058a81e4d30bb39545f",
       "version_major": 2,
       "version_minor": 0
      },
      "text/plain": [
       "VBox()"
      ]
     },
     "metadata": {},
     "output_type": "display_data"
    },
    {
     "data": {
      "application/vnd.jupyter.widget-view+json": {
       "model_id": "",
       "version_major": 2,
       "version_minor": 0
      },
      "text/plain": [
       "FloatProgress(value=0.0, bar_style='info', description='Progress:', layout=Layout(height='25px', width='50%'),…"
      ]
     },
     "metadata": {},
     "output_type": "display_data"
    },
    {
     "name": "stdout",
     "output_type": "stream",
     "text": [
      "+-----------+\n",
      "|      genre|\n",
      "+-----------+\n",
      "|    Mystery|\n",
      "|    Musical|\n",
      "|      Sport|\n",
      "|     Action|\n",
      "|  Talk-Show|\n",
      "|    Romance|\n",
      "|   Thriller|\n",
      "|         \\N|\n",
      "| Reality-TV|\n",
      "|     Family|\n",
      "|    Fantasy|\n",
      "|    History|\n",
      "|  Animation|\n",
      "|  Film-Noir|\n",
      "|      Short|\n",
      "|     Sci-Fi|\n",
      "|       News|\n",
      "|      Drama|\n",
      "|Documentary|\n",
      "|    Western|\n",
      "|     Comedy|\n",
      "|      Crime|\n",
      "|        War|\n",
      "|  Game-Show|\n",
      "|      Adult|\n",
      "|      Music|\n",
      "|  Biography|\n",
      "|  Adventure|\n",
      "|     Horror|\n",
      "+-----------+"
     ]
    }
   ],
   "source": [
    "uniques.show(30)"
   ]
  },
  {
   "cell_type": "markdown",
   "id": "4c5f3022",
   "metadata": {},
   "source": [
    "**Oops! Something is off!**"
   ]
  },
  {
   "cell_type": "code",
   "execution_count": 42,
   "id": "e699b5ae",
   "metadata": {
    "execution": {
     "iopub.execute_input": "2023-12-13T05:47:05.506276Z",
     "iopub.status.busy": "2023-12-13T05:47:05.505934Z",
     "iopub.status.idle": "2023-12-13T05:47:12.786591Z",
     "shell.execute_reply": "2023-12-13T05:47:12.785633Z",
     "shell.execute_reply.started": "2023-12-13T05:47:05.506241Z"
    },
    "tags": []
   },
   "outputs": [
    {
     "data": {
      "application/vnd.jupyter.widget-view+json": {
       "model_id": "6cc0e9d850e04a70ad9216c392f06146",
       "version_major": 2,
       "version_minor": 0
      },
      "text/plain": [
       "VBox()"
      ]
     },
     "metadata": {},
     "output_type": "display_data"
    },
    {
     "data": {
      "application/vnd.jupyter.widget-view+json": {
       "model_id": "",
       "version_major": 2,
       "version_minor": 0
      },
      "text/plain": [
       "FloatProgress(value=0.0, bar_style='info', description='Progress:', layout=Layout(height='25px', width='50%'),…"
      ]
     },
     "metadata": {},
     "output_type": "display_data"
    },
    {
     "name": "stdout",
     "output_type": "stream",
     "text": [
      "+-----------+\n",
      "|      genre|\n",
      "+-----------+\n",
      "|    Mystery|\n",
      "|    Musical|\n",
      "|      Sport|\n",
      "|     Action|\n",
      "|  Talk-Show|\n",
      "|    Romance|\n",
      "|   Thriller|\n",
      "| Reality-TV|\n",
      "|     Family|\n",
      "|    Fantasy|\n",
      "|    History|\n",
      "|  Animation|\n",
      "|  Film-Noir|\n",
      "|      Short|\n",
      "|     Sci-Fi|\n",
      "|       News|\n",
      "|      Drama|\n",
      "|Documentary|\n",
      "|    Western|\n",
      "|     Comedy|\n",
      "|      Crime|\n",
      "|        War|\n",
      "|  Game-Show|\n",
      "|      Adult|\n",
      "|      Music|\n",
      "|  Biography|\n",
      "|  Adventure|\n",
      "|     Horror|\n",
      "+-----------+"
     ]
    }
   ],
   "source": [
    "uniques.filter(col('genre') != \"\\\\N\").show(30)"
   ]
  },
  {
   "cell_type": "markdown",
   "id": "b7d29ebd",
   "metadata": {},
   "source": [
    "## Top Genres by Movies\n",
    "\n",
    "Now let's find the highest rated genres in this dataset by rolling up genres."
   ]
  },
  {
   "cell_type": "markdown",
   "id": "de4c28e3",
   "metadata": {},
   "source": [
    "### Average Rating / Genre"
   ]
  },
  {
   "cell_type": "markdown",
   "id": "49f1153c",
   "metadata": {},
   "source": [
    "So now, let's unroll our distinct count a bit and display the per average rating value of per genre.\n",
    "\n",
    "The expected output should be:\n",
    "\n",
    "| genre | averageRating |\n",
    "|-------------|------------|\n",
    "| a     | 8.5         |\n",
    "| b     | 6.3         |\n",
    "| c     | 7.2         |\n",
    "\n",
    "Or something to that effect."
   ]
  },
  {
   "cell_type": "markdown",
   "id": "15423dc6",
   "metadata": {},
   "source": [
    "First, let's join our two dataframes (movie ratings and genres) by tconst"
   ]
  },
  {
   "cell_type": "code",
   "execution_count": 43,
   "id": "71b5d21b",
   "metadata": {
    "execution": {
     "iopub.execute_input": "2023-12-13T05:47:12.788660Z",
     "iopub.status.busy": "2023-12-13T05:47:12.788417Z",
     "iopub.status.idle": "2023-12-13T05:47:22.072670Z",
     "shell.execute_reply": "2023-12-13T05:47:22.071840Z",
     "shell.execute_reply.started": "2023-12-13T05:47:12.788636Z"
    },
    "tags": []
   },
   "outputs": [
    {
     "data": {
      "application/vnd.jupyter.widget-view+json": {
       "model_id": "223bfba0507446dfa413a56572e24da9",
       "version_major": 2,
       "version_minor": 0
      },
      "text/plain": [
       "VBox()"
      ]
     },
     "metadata": {},
     "output_type": "display_data"
    },
    {
     "data": {
      "application/vnd.jupyter.widget-view+json": {
       "model_id": "",
       "version_major": 2,
       "version_minor": 0
      },
      "text/plain": [
       "FloatProgress(value=0.0, bar_style='info', description='Progress:', layout=Layout(height='25px', width='50%'),…"
      ]
     },
     "metadata": {},
     "output_type": "display_data"
    },
    {
     "name": "stdout",
     "output_type": "stream",
     "text": [
      "+---------+-------------+\n",
      "|    genre|averageRating|\n",
      "+---------+-------------+\n",
      "|    Drama|          4.2|\n",
      "|    Drama|          4.2|\n",
      "|Biography|          4.1|\n",
      "|    Drama|          4.1|\n",
      "|  History|          4.1|\n",
      "|    Drama|          5.7|\n",
      "|    Drama|          4.6|\n",
      "|  History|          4.6|\n",
      "|Biography|          6.3|\n",
      "|    Drama|          6.3|\n",
      "+---------+-------------+\n",
      "only showing top 10 rows"
     ]
    }
   ],
   "source": [
    "title_info = new_titles.join(ratings, on=\"tconst\")\n",
    "title_info.select(\"genre\", \"averageRating\").filter((col('genre') != \"\\\\N\") & (col(\"titleType\") == \"movie\")).show(10)"
   ]
  },
  {
   "cell_type": "markdown",
   "id": "98094ca8",
   "metadata": {},
   "source": [
    "Now, let's aggregate along the averageRating column to get a resultant dataframe that displays average rating per genre."
   ]
  },
  {
   "cell_type": "code",
   "execution_count": 44,
   "id": "317c522c",
   "metadata": {
    "execution": {
     "iopub.execute_input": "2023-12-13T05:47:22.073940Z",
     "iopub.status.busy": "2023-12-13T05:47:22.073708Z",
     "iopub.status.idle": "2023-12-13T05:47:31.350508Z",
     "shell.execute_reply": "2023-12-13T05:47:31.349604Z",
     "shell.execute_reply.started": "2023-12-13T05:47:22.073918Z"
    },
    "tags": []
   },
   "outputs": [
    {
     "data": {
      "application/vnd.jupyter.widget-view+json": {
       "model_id": "560b989243f447d9b7765042e788fa92",
       "version_major": 2,
       "version_minor": 0
      },
      "text/plain": [
       "VBox()"
      ]
     },
     "metadata": {},
     "output_type": "display_data"
    },
    {
     "data": {
      "application/vnd.jupyter.widget-view+json": {
       "model_id": "",
       "version_major": 2,
       "version_minor": 0
      },
      "text/plain": [
       "FloatProgress(value=0.0, bar_style='info', description='Progress:', layout=Layout(height='25px', width='50%'),…"
      ]
     },
     "metadata": {},
     "output_type": "display_data"
    },
    {
     "name": "stdout",
     "output_type": "stream",
     "text": [
      "+-----------+----------+\n",
      "|      genre|avg_rating|\n",
      "+-----------+----------+\n",
      "|    Mystery| 5.9404373|\n",
      "|    Musical|  6.203246|\n",
      "|     Action| 5.7187343|\n",
      "|      Sport| 6.6001453|\n",
      "|    Romance| 6.1257143|\n",
      "|   Thriller| 5.6259675|\n",
      "|     Family| 6.2505603|\n",
      "|    Fantasy|  5.924821|\n",
      "|    History|  6.822718|\n",
      "|  Animation|  6.326204|\n",
      "|  Film-Noir| 6.6362467|\n",
      "|     Sci-Fi|   5.32515|\n",
      "|       News|  7.200916|\n",
      "|      Drama|   6.28808|\n",
      "|Documentary| 7.2454696|\n",
      "|    Western|  5.948971|\n",
      "|     Comedy| 5.9413633|\n",
      "|      Crime| 6.0260134|\n",
      "|        War|  6.483807|\n",
      "|      Adult| 5.7217426|\n",
      "+-----------+----------+\n",
      "only showing top 20 rows"
     ]
    }
   ],
   "source": [
    "#select and filter > group > avg > cast > change name\n",
    "genre_ratings = title_info.select(\"genre\", \"averageRating\") \\\n",
    "    .filter((col('genre') != \"\\\\N\") & (col(\"titleType\") == \"movie\")) \\\n",
    "    .groupBy(\"genre\") \\\n",
    "    .agg(avg(col(\"averageRating\")).cast(\"float\").alias(\"avg_rating\"))\n",
    "genre_ratings.show(20)"
   ]
  },
  {
   "cell_type": "markdown",
   "id": "b1fd4e61",
   "metadata": {},
   "source": [
    "### Horizontal Bar Chart of Top Genres\n",
    "\n",
    "With this data available, let us now build a barchart of all genres \n",
    "\n",
    "**HINT**: don't forget about the matplotlib magic!\n",
    "\n",
    "```\n",
    "%matplot plt\n",
    "```"
   ]
  },
  {
   "cell_type": "code",
   "execution_count": 45,
   "id": "2865ccdb",
   "metadata": {
    "execution": {
     "iopub.execute_input": "2023-12-13T05:47:31.351967Z",
     "iopub.status.busy": "2023-12-13T05:47:31.351642Z",
     "iopub.status.idle": "2023-12-13T05:47:31.393970Z",
     "shell.execute_reply": "2023-12-13T05:47:31.393299Z",
     "shell.execute_reply.started": "2023-12-13T05:47:31.351934Z"
    },
    "tags": []
   },
   "outputs": [
    {
     "data": {
      "application/vnd.jupyter.widget-view+json": {
       "model_id": "a9c8e07de4ed4b40aa6101d29ef82196",
       "version_major": 2,
       "version_minor": 0
      },
      "text/plain": [
       "VBox()"
      ]
     },
     "metadata": {},
     "output_type": "display_data"
    },
    {
     "data": {
      "application/vnd.jupyter.widget-view+json": {
       "model_id": "",
       "version_major": 2,
       "version_minor": 0
      },
      "text/plain": [
       "FloatProgress(value=0.0, bar_style='info', description='Progress:', layout=Layout(height='25px', width='50%'),…"
      ]
     },
     "metadata": {},
     "output_type": "display_data"
    }
   ],
   "source": [
    "#sort in descending for bar chart\n",
    "sort_genres = genre_ratings.orderBy(col(\"avg_rating\").desc())"
   ]
  },
  {
   "cell_type": "code",
   "execution_count": 74,
   "id": "4a868d3d",
   "metadata": {
    "execution": {
     "iopub.execute_input": "2023-12-13T06:10:20.423917Z",
     "iopub.status.busy": "2023-12-13T06:10:20.423490Z",
     "iopub.status.idle": "2023-12-13T06:10:27.718060Z",
     "shell.execute_reply": "2023-12-13T06:10:27.717213Z",
     "shell.execute_reply.started": "2023-12-13T06:10:20.423877Z"
    },
    "tags": []
   },
   "outputs": [
    {
     "data": {
      "application/vnd.jupyter.widget-view+json": {
       "model_id": "97f3feb89130464692cb0810b36d6d90",
       "version_major": 2,
       "version_minor": 0
      },
      "text/plain": [
       "VBox()"
      ]
     },
     "metadata": {},
     "output_type": "display_data"
    },
    {
     "data": {
      "application/vnd.jupyter.widget-view+json": {
       "model_id": "",
       "version_major": 2,
       "version_minor": 0
      },
      "text/plain": [
       "FloatProgress(value=0.0, bar_style='info', description='Progress:', layout=Layout(height='25px', width='50%'),…"
      ]
     },
     "metadata": {},
     "output_type": "display_data"
    },
    {
     "data": {
      "image/png": "[encoded data removed]",
      "text/plain": [
       "<IPython.core.display.Image object>"
      ]
     },
     "metadata": {},
     "output_type": "display_data"
    }
   ],
   "source": [
    "#convert to pandas and make chart\n",
    "genre_df = sort_genres.toPandas().sort_values(by='avg_rating', ascending=False)\n",
    "\n",
    "#make chart\n",
    "genre_df.plot.barh('genre', 'avg_rating', color='purple')\n",
    "\n",
    "plt.xlabel('Average Rating')\n",
    "plt.ylabel('Genre')\n",
    "plt.title('Top Genres in the Movie Category')\n",
    "plt.xlim(5.0,7.5)\n",
    "plt.gca().invert_yaxis()\n",
    "\n",
    "\n",
    "%matplot plt"
   ]
  },
  {
   "cell_type": "markdown",
   "id": "3671c612",
   "metadata": {},
   "source": [
    "## PART 3 - Analyzing Job Categories"
   ]
  },
  {
   "cell_type": "markdown",
   "id": "2912a0ba",
   "metadata": {},
   "source": [
    "## Total Unique Job Categories"
   ]
  },
  {
   "cell_type": "markdown",
   "id": "099531c0",
   "metadata": {},
   "source": [
    "**What is the total number of unique job categories?**"
   ]
  },
  {
   "cell_type": "code",
   "execution_count": 47,
   "id": "bf5ea336",
   "metadata": {
    "execution": {
     "iopub.execute_input": "2023-12-13T05:47:40.678977Z",
     "iopub.status.busy": "2023-12-13T05:47:40.678634Z",
     "iopub.status.idle": "2023-12-13T05:47:40.926716Z",
     "shell.execute_reply": "2023-12-13T05:47:40.924899Z",
     "shell.execute_reply.started": "2023-12-13T05:47:40.678939Z"
    },
    "tags": []
   },
   "outputs": [
    {
     "data": {
      "application/vnd.jupyter.widget-view+json": {
       "model_id": "796b0b59438e4b4c86df0ffa6285e372",
       "version_major": 2,
       "version_minor": 0
      },
      "text/plain": [
       "VBox()"
      ]
     },
     "metadata": {},
     "output_type": "display_data"
    },
    {
     "data": {
      "application/vnd.jupyter.widget-view+json": {
       "model_id": "",
       "version_major": 2,
       "version_minor": 0
      },
      "text/plain": [
       "FloatProgress(value=0.0, bar_style='info', description='Progress:', layout=Layout(height='25px', width='50%'),…"
      ]
     },
     "metadata": {},
     "output_type": "display_data"
    },
    {
     "name": "stdout",
     "output_type": "stream",
     "text": [
      "+---------+---------------+\n",
      "|   tconst|       category|\n",
      "+---------+---------------+\n",
      "|tt0000001|           self|\n",
      "|tt0000001|       director|\n",
      "|tt0000001|cinematographer|\n",
      "|tt0000002|       director|\n",
      "|tt0000002|       composer|\n",
      "+---------+---------------+\n",
      "only showing top 5 rows"
     ]
    }
   ],
   "source": [
    "principals.select(\"tconst\", \"category\").show(5)"
   ]
  },
  {
   "cell_type": "code",
   "execution_count": 48,
   "id": "44203333",
   "metadata": {
    "execution": {
     "iopub.execute_input": "2023-12-13T05:47:40.937989Z",
     "iopub.status.busy": "2023-12-13T05:47:40.937512Z",
     "iopub.status.idle": "2023-12-13T05:48:06.352485Z",
     "shell.execute_reply": "2023-12-13T05:48:06.351737Z",
     "shell.execute_reply.started": "2023-12-13T05:47:40.937949Z"
    },
    "tags": []
   },
   "outputs": [
    {
     "data": {
      "application/vnd.jupyter.widget-view+json": {
       "model_id": "277b2668e2d84078b0e1a6c88a343950",
       "version_major": 2,
       "version_minor": 0
      },
      "text/plain": [
       "VBox()"
      ]
     },
     "metadata": {},
     "output_type": "display_data"
    },
    {
     "data": {
      "application/vnd.jupyter.widget-view+json": {
       "model_id": "",
       "version_major": 2,
       "version_minor": 0
      },
      "text/plain": [
       "FloatProgress(value=0.0, bar_style='info', description='Progress:', layout=Layout(height='25px', width='50%'),…"
      ]
     },
     "metadata": {},
     "output_type": "display_data"
    },
    {
     "name": "stdout",
     "output_type": "stream",
     "text": [
      "12"
     ]
    }
   ],
   "source": [
    "principals.select(\"category\").distinct().count()"
   ]
  },
  {
   "cell_type": "markdown",
   "id": "c3b2f7b4",
   "metadata": {},
   "source": [
    "**What are the unique job categories available?**"
   ]
  },
  {
   "cell_type": "code",
   "execution_count": 49,
   "id": "e03438b0",
   "metadata": {
    "execution": {
     "iopub.execute_input": "2023-12-13T05:48:06.353978Z",
     "iopub.status.busy": "2023-12-13T05:48:06.353644Z",
     "iopub.status.idle": "2023-12-13T05:48:31.672173Z",
     "shell.execute_reply": "2023-12-13T05:48:31.671377Z",
     "shell.execute_reply.started": "2023-12-13T05:48:06.353941Z"
    },
    "tags": []
   },
   "outputs": [
    {
     "data": {
      "application/vnd.jupyter.widget-view+json": {
       "model_id": "29cb5c376e6144ac93eddc20fc006f1a",
       "version_major": 2,
       "version_minor": 0
      },
      "text/plain": [
       "VBox()"
      ]
     },
     "metadata": {},
     "output_type": "display_data"
    },
    {
     "data": {
      "application/vnd.jupyter.widget-view+json": {
       "model_id": "",
       "version_major": 2,
       "version_minor": 0
      },
      "text/plain": [
       "FloatProgress(value=0.0, bar_style='info', description='Progress:', layout=Layout(height='25px', width='50%'),…"
      ]
     },
     "metadata": {},
     "output_type": "display_data"
    },
    {
     "name": "stdout",
     "output_type": "stream",
     "text": [
      "+-------------------+\n",
      "|           category|\n",
      "+-------------------+\n",
      "|            actress|\n",
      "|           producer|\n",
      "|production_designer|\n",
      "|             writer|\n",
      "|              actor|\n",
      "|    cinematographer|\n",
      "|      archive_sound|\n",
      "|    archive_footage|\n",
      "|               self|\n",
      "|             editor|\n",
      "|           composer|\n",
      "|           director|\n",
      "+-------------------+"
     ]
    }
   ],
   "source": [
    "principals.select(\"category\").distinct().show()"
   ]
  },
  {
   "cell_type": "markdown",
   "id": "47312540",
   "metadata": {},
   "source": [
    "## Top Job Categories"
   ]
  },
  {
   "cell_type": "markdown",
   "id": "61df21f0",
   "metadata": {},
   "source": [
    "Now let's find the top job categories in this dataset by rolling up categories."
   ]
  },
  {
   "cell_type": "markdown",
   "id": "2d56869a",
   "metadata": {},
   "source": [
    "### Counts of Titles / Job Category"
   ]
  },
  {
   "cell_type": "markdown",
   "id": "ae87af2f",
   "metadata": {},
   "source": [
    "The expected output should be:\n",
    "\n",
    "| category | count |\n",
    "|-------------|------------|\n",
    "| a     | 15         |\n",
    "| b     | 2          |\n",
    "| c     | 45          |\n",
    "\n",
    "Or something to that effect."
   ]
  },
  {
   "cell_type": "code",
   "execution_count": 50,
   "id": "f3d65964",
   "metadata": {
    "execution": {
     "iopub.execute_input": "2023-12-13T05:48:31.673422Z",
     "iopub.status.busy": "2023-12-13T05:48:31.673186Z",
     "iopub.status.idle": "2023-12-13T05:48:56.986987Z",
     "shell.execute_reply": "2023-12-13T05:48:56.986160Z",
     "shell.execute_reply.started": "2023-12-13T05:48:31.673399Z"
    },
    "tags": []
   },
   "outputs": [
    {
     "data": {
      "application/vnd.jupyter.widget-view+json": {
       "model_id": "9e5c0145e6854bebb18aa2ff704809cd",
       "version_major": 2,
       "version_minor": 0
      },
      "text/plain": [
       "VBox()"
      ]
     },
     "metadata": {},
     "output_type": "display_data"
    },
    {
     "data": {
      "application/vnd.jupyter.widget-view+json": {
       "model_id": "",
       "version_major": 2,
       "version_minor": 0
      },
      "text/plain": [
       "FloatProgress(value=0.0, bar_style='info', description='Progress:', layout=Layout(height='25px', width='50%'),…"
      ]
     },
     "metadata": {},
     "output_type": "display_data"
    },
    {
     "name": "stdout",
     "output_type": "stream",
     "text": [
      "+-------------------+-------+\n",
      "|           category|  count|\n",
      "+-------------------+-------+\n",
      "|            actress|6325097|\n",
      "|           producer|2197866|\n",
      "|production_designer| 285924|\n",
      "|             writer|4811596|\n",
      "|              actor|8493701|\n",
      "|    cinematographer|1300404|\n",
      "|      archive_sound|   2143|\n",
      "|    archive_footage| 209035|\n",
      "|               self|6153089|\n",
      "|             editor|1197669|\n",
      "|           composer|1313187|\n",
      "|           director|4179106|\n",
      "+-------------------+-------+"
     ]
    }
   ],
   "source": [
    "category_count = principals.select(\"category\").groupBy(\"category\").count()\n",
    "category_count.show()"
   ]
  },
  {
   "cell_type": "markdown",
   "id": "f8671889",
   "metadata": {},
   "source": [
    "### Bar Chart of Top Job Categories\n",
    "\n",
    "With this data available, let us now build a barchart of the top 5 categories. \n",
    "\n",
    "**HINT**: don't forget about the matplotlib magic!\n",
    "\n",
    "```\n",
    "%matplot plt\n",
    "```"
   ]
  },
  {
   "cell_type": "code",
   "execution_count": 51,
   "id": "3c73edf1",
   "metadata": {
    "execution": {
     "iopub.execute_input": "2023-12-13T05:48:56.988248Z",
     "iopub.status.busy": "2023-12-13T05:48:56.988020Z",
     "iopub.status.idle": "2023-12-13T05:49:22.304144Z",
     "shell.execute_reply": "2023-12-13T05:49:22.302715Z",
     "shell.execute_reply.started": "2023-12-13T05:48:56.988226Z"
    },
    "tags": []
   },
   "outputs": [
    {
     "data": {
      "application/vnd.jupyter.widget-view+json": {
       "model_id": "4dfe75a80227459d8c0f4e803a1fe27d",
       "version_major": 2,
       "version_minor": 0
      },
      "text/plain": [
       "VBox()"
      ]
     },
     "metadata": {},
     "output_type": "display_data"
    },
    {
     "data": {
      "application/vnd.jupyter.widget-view+json": {
       "model_id": "",
       "version_major": 2,
       "version_minor": 0
      },
      "text/plain": [
       "FloatProgress(value=0.0, bar_style='info', description='Progress:', layout=Layout(height='25px', width='50%'),…"
      ]
     },
     "metadata": {},
     "output_type": "display_data"
    },
    {
     "name": "stdout",
     "output_type": "stream",
     "text": [
      "+-------------------+-------+\n",
      "|           category|  count|\n",
      "+-------------------+-------+\n",
      "|              actor|8493701|\n",
      "|            actress|6325097|\n",
      "|               self|6153089|\n",
      "|             writer|4811596|\n",
      "|           director|4179106|\n",
      "|           producer|2197866|\n",
      "|           composer|1313187|\n",
      "|    cinematographer|1300404|\n",
      "|             editor|1197669|\n",
      "|production_designer| 285924|\n",
      "|    archive_footage| 209035|\n",
      "|      archive_sound|   2143|\n",
      "+-------------------+-------+"
     ]
    }
   ],
   "source": [
    "category_count_desc = category_count.sort(\"count\", ascending=False)\n",
    "category_count_desc.show()"
   ]
  },
  {
   "cell_type": "code",
   "execution_count": 68,
   "id": "14453de1-0164-4bb5-a2df-23c41e3cc26a",
   "metadata": {
    "execution": {
     "iopub.execute_input": "2023-12-13T06:05:22.410056Z",
     "iopub.status.busy": "2023-12-13T06:05:22.409747Z",
     "iopub.status.idle": "2023-12-13T06:05:29.679954Z",
     "shell.execute_reply": "2023-12-13T06:05:29.679241Z",
     "shell.execute_reply.started": "2023-12-13T06:05:22.410031Z"
    },
    "tags": []
   },
   "outputs": [
    {
     "data": {
      "application/vnd.jupyter.widget-view+json": {
       "model_id": "3f2f6be0db9945a695a9d4660e3bd14e",
       "version_major": 2,
       "version_minor": 0
      },
      "text/plain": [
       "VBox()"
      ]
     },
     "metadata": {},
     "output_type": "display_data"
    },
    {
     "data": {
      "application/vnd.jupyter.widget-view+json": {
       "model_id": "",
       "version_major": 2,
       "version_minor": 0
      },
      "text/plain": [
       "FloatProgress(value=0.0, bar_style='info', description='Progress:', layout=Layout(height='25px', width='50%'),…"
      ]
     },
     "metadata": {},
     "output_type": "display_data"
    }
   ],
   "source": [
    "#convert category df to pandas df\n",
    "category_df = category_count_desc.toPandas()"
   ]
  },
  {
   "cell_type": "code",
   "execution_count": 77,
   "id": "207e97ae-b0d9-4f33-8d17-2ca34c3ec36b",
   "metadata": {
    "execution": {
     "iopub.execute_input": "2023-12-13T06:11:52.354593Z",
     "iopub.status.busy": "2023-12-13T06:11:52.354261Z",
     "iopub.status.idle": "2023-12-13T06:11:52.611726Z",
     "shell.execute_reply": "2023-12-13T06:11:52.610707Z",
     "shell.execute_reply.started": "2023-12-13T06:11:52.354556Z"
    },
    "tags": []
   },
   "outputs": [
    {
     "data": {
      "application/vnd.jupyter.widget-view+json": {
       "model_id": "626e5e5220eb4004a8b499d379d7eee5",
       "version_major": 2,
       "version_minor": 0
      },
      "text/plain": [
       "VBox()"
      ]
     },
     "metadata": {},
     "output_type": "display_data"
    },
    {
     "data": {
      "application/vnd.jupyter.widget-view+json": {
       "model_id": "",
       "version_major": 2,
       "version_minor": 0
      },
      "text/plain": [
       "FloatProgress(value=0.0, bar_style='info', description='Progress:', layout=Layout(height='25px', width='50%'),…"
      ]
     },
     "metadata": {},
     "output_type": "display_data"
    },
    {
     "data": {
      "image/png": "[encoded data removed]",
      "text/plain": [
       "<IPython.core.display.Image object>"
      ]
     },
     "metadata": {},
     "output_type": "display_data"
    }
   ],
   "source": [
    "#make chart\n",
    "category_df.head(5).plot.bar('category', 'count', color='orange')\n",
    "\n",
    "\n",
    "plt.xlabel('Job Categories')\n",
    "plt.ylabel('Count')\n",
    "plt.title('Top Job Categories')\n",
    "plt.xticks(rotation=25, ha='right')\n",
    "\n",
    "\n",
    "#matplot\n",
    "%matplot plt"
   ]
  },
  {
   "cell_type": "markdown",
   "id": "a4436c54",
   "metadata": {},
   "source": [
    "# PART 4 - Answer to the following questions:"
   ]
  },
  {
   "cell_type": "markdown",
   "id": "4c531a7b-8289-4784-825b-fabad415090b",
   "metadata": {},
   "source": [
    "You will need to join tables to answer the following questions.\n",
    "Your code should meet all the requirements given in the question."
   ]
  },
  {
   "cell_type": "markdown",
   "id": "17273925",
   "metadata": {},
   "source": [
    "## 1) What are the movies in which both Johnny Depp and Helena Bonham Carter have acted together?"
   ]
  },
  {
   "cell_type": "code",
   "execution_count": 54,
   "id": "5cc6a409-db96-453c-8249-a20e0787db1d",
   "metadata": {
    "execution": {
     "iopub.execute_input": "2023-12-13T05:49:47.871546Z",
     "iopub.status.busy": "2023-12-13T05:49:47.871316Z",
     "iopub.status.idle": "2023-12-13T05:51:11.355890Z",
     "shell.execute_reply": "2023-12-13T05:51:11.355088Z",
     "shell.execute_reply.started": "2023-12-13T05:49:47.871524Z"
    },
    "tags": []
   },
   "outputs": [
    {
     "data": {
      "application/vnd.jupyter.widget-view+json": {
       "model_id": "f50ade90b2434b0ba78818308fadf888",
       "version_major": 2,
       "version_minor": 0
      },
      "text/plain": [
       "VBox()"
      ]
     },
     "metadata": {},
     "output_type": "display_data"
    },
    {
     "data": {
      "application/vnd.jupyter.widget-view+json": {
       "model_id": "",
       "version_major": 2,
       "version_minor": 0
      },
      "text/plain": [
       "FloatProgress(value=0.0, bar_style='info', description='Progress:', layout=Layout(height='25px', width='50%'),…"
      ]
     },
     "metadata": {},
     "output_type": "display_data"
    },
    {
     "name": "stdout",
     "output_type": "stream",
     "text": [
      "+----------------------------------------------+\n",
      "|primaryTitle                                  |\n",
      "+----------------------------------------------+\n",
      "|Corpse Bride                                  |\n",
      "|Dark Shadows                                  |\n",
      "|Charlie and the Chocolate Factory             |\n",
      "|Alice Through the Looking Glass               |\n",
      "|Sweeney Todd: The Demon Barber of Fleet Street|\n",
      "|Alice in Wonderland                           |\n",
      "+----------------------------------------------+"
     ]
    }
   ],
   "source": [
    "#merge dfs\n",
    "title_principal = new_titles.join(principals, on='tconst')\n",
    "name_info = title_principal.join(name, on='nconst')\n",
    "\n",
    "#filter for johnny and helena in 2 separate dataframes\n",
    "johnny = name_info.select('primaryTitle', 'primaryName') \\\n",
    "                    .filter((col('primaryName') == 'Johnny Depp')) \\\n",
    "                    .filter((col('category') == 'actor')) \\\n",
    "                    .filter((col('titleType') == 'movie'))\n",
    "\n",
    "helena = name_info.select('primaryTitle', 'primaryName') \\\n",
    "                    .filter((col('primaryName') == 'Helena Bonham Carter')) \\\n",
    "                    .filter((col('category') == 'actress')) \\\n",
    "                    .filter((col('titleType') == 'movie'))\n",
    "\n",
    "#merge them and show distinct movies\n",
    "both = johnny.join(helena, on='primaryTitle')\n",
    "both.select('primaryTitle').distinct().show(truncate=False)"
   ]
  },
  {
   "cell_type": "markdown",
   "id": "a43ca52f",
   "metadata": {},
   "source": [
    "## 2) What are the movies in which Brad Pitt has acted since 2010?"
   ]
  },
  {
   "cell_type": "code",
   "execution_count": 55,
   "id": "380d9cbf",
   "metadata": {
    "execution": {
     "iopub.execute_input": "2023-12-13T05:51:11.357126Z",
     "iopub.status.busy": "2023-12-13T05:51:11.356894Z",
     "iopub.status.idle": "2023-12-13T05:51:54.748181Z",
     "shell.execute_reply": "2023-12-13T05:51:54.747536Z",
     "shell.execute_reply.started": "2023-12-13T05:51:11.357103Z"
    },
    "tags": []
   },
   "outputs": [
    {
     "data": {
      "application/vnd.jupyter.widget-view+json": {
       "model_id": "040fb9031d7f4d47a851db7c60f836b2",
       "version_major": 2,
       "version_minor": 0
      },
      "text/plain": [
       "VBox()"
      ]
     },
     "metadata": {},
     "output_type": "display_data"
    },
    {
     "data": {
      "application/vnd.jupyter.widget-view+json": {
       "model_id": "",
       "version_major": 2,
       "version_minor": 0
      },
      "text/plain": [
       "FloatProgress(value=0.0, bar_style='info', description='Progress:', layout=Layout(height='25px', width='50%'),…"
      ]
     },
     "metadata": {},
     "output_type": "display_data"
    },
    {
     "name": "stdout",
     "output_type": "stream",
     "text": [
      "+---------------------------------+---------+\n",
      "|primaryTitle                     |startYear|\n",
      "+---------------------------------+---------+\n",
      "|Babylon                          |2021     |\n",
      "|Ad Astra                         |2019     |\n",
      "|Once Upon a Time ... in Hollywood|2019     |\n",
      "|War Machine                      |2017     |\n",
      "|Allied                           |2016     |\n",
      "|By the Sea                       |2015     |\n",
      "|The Big Short                    |2015     |\n",
      "|Fury                             |2014     |\n",
      "|World War Z                      |2013     |\n",
      "|12 Years a Slave                 |2013     |\n",
      "|Killing Them Softly              |2012     |\n",
      "|Moneyball                        |2011     |\n",
      "|The Tree of Life                 |2011     |\n",
      "+---------------------------------+---------+"
     ]
    }
   ],
   "source": [
    "#used > 2010 because Professor's code seems to be exclusive (greater than 2010) but some may perceive question as >= 2010\n",
    "\n",
    "brad = name_info.select('primaryTitle', 'startYear') \\\n",
    "                    .filter((col('primaryName') == 'Brad Pitt')) \\\n",
    "                    .filter((col('category') == 'actor')) \\\n",
    "                    .filter((col('titleType') == 'movie')) \\\n",
    "                    .filter((col('startYear') > 2010)) \\\n",
    "                    .distinct() \\\n",
    "                    .orderBy('startYear', ascending=False)\n",
    "brad.show(truncate=False)"
   ]
  },
  {
   "cell_type": "markdown",
   "id": "084db6f3",
   "metadata": {},
   "source": [
    "## 3) How many movies has Zendaya acted in each year?"
   ]
  },
  {
   "cell_type": "code",
   "execution_count": 56,
   "id": "e103930d-d072-4cad-81a0-288959caa34b",
   "metadata": {
    "execution": {
     "iopub.execute_input": "2023-12-13T05:51:54.749741Z",
     "iopub.status.busy": "2023-12-13T05:51:54.749411Z",
     "iopub.status.idle": "2023-12-13T05:52:38.147229Z",
     "shell.execute_reply": "2023-12-13T05:52:38.146436Z",
     "shell.execute_reply.started": "2023-12-13T05:51:54.749705Z"
    },
    "tags": []
   },
   "outputs": [
    {
     "data": {
      "application/vnd.jupyter.widget-view+json": {
       "model_id": "ee517c523ab247689c6af57a0e22ba43",
       "version_major": 2,
       "version_minor": 0
      },
      "text/plain": [
       "VBox()"
      ]
     },
     "metadata": {},
     "output_type": "display_data"
    },
    {
     "data": {
      "application/vnd.jupyter.widget-view+json": {
       "model_id": "",
       "version_major": 2,
       "version_minor": 0
      },
      "text/plain": [
       "FloatProgress(value=0.0, bar_style='info', description='Progress:', layout=Layout(height='25px', width='50%'),…"
      ]
     },
     "metadata": {},
     "output_type": "display_data"
    },
    {
     "name": "stdout",
     "output_type": "stream",
     "text": [
      "+---------+-----+\n",
      "|startYear|count|\n",
      "+---------+-----+\n",
      "|     2020|    1|\n",
      "|     2018|    2|\n",
      "|     2017|    1|\n",
      "+---------+-----+"
     ]
    }
   ],
   "source": [
    "z = name_info.select('startYear', 'primaryTitle')\\\n",
    "                .filter(col('primaryName')=='Zendaya')\\\n",
    "                .filter(col('titleType') == 'movie')\\\n",
    "                .filter(col('category') == 'actress')\\\n",
    "                .filter(col('startYear') != \"\\\\N\")\\\n",
    "                .distinct()\\\n",
    "                .withColumn('startYear', col('startYear').cast('int'))\\\n",
    "                .groupBy('startYear')\\\n",
    "                .count()\\\n",
    "                .orderBy('startYear', ascending=False)\n",
    "                \n",
    "z.show(30)"
   ]
  },
  {
   "cell_type": "markdown",
   "id": "c7ba3bde",
   "metadata": {},
   "source": [
    "## 4) Which movies, released in 2019, have an average rating exceeding 9.7?"
   ]
  },
  {
   "cell_type": "code",
   "execution_count": 57,
   "id": "294883c2",
   "metadata": {
    "execution": {
     "iopub.execute_input": "2023-12-13T05:52:38.148816Z",
     "iopub.status.busy": "2023-12-13T05:52:38.148487Z",
     "iopub.status.idle": "2023-12-13T05:53:35.559935Z",
     "shell.execute_reply": "2023-12-13T05:53:35.559114Z",
     "shell.execute_reply.started": "2023-12-13T05:52:38.148779Z"
    },
    "tags": []
   },
   "outputs": [
    {
     "data": {
      "application/vnd.jupyter.widget-view+json": {
       "model_id": "73b5ebf75a204758ba7fa4adfb454ae8",
       "version_major": 2,
       "version_minor": 0
      },
      "text/plain": [
       "VBox()"
      ]
     },
     "metadata": {},
     "output_type": "display_data"
    },
    {
     "data": {
      "application/vnd.jupyter.widget-view+json": {
       "model_id": "",
       "version_major": 2,
       "version_minor": 0
      },
      "text/plain": [
       "FloatProgress(value=0.0, bar_style='info', description='Progress:', layout=Layout(height='25px', width='50%'),…"
      ]
     },
     "metadata": {},
     "output_type": "display_data"
    },
    {
     "name": "stdout",
     "output_type": "stream",
     "text": [
      "+----------------------------------------+-------------+\n",
      "|primaryTitle                            |averageRating|\n",
      "+----------------------------------------+-------------+\n",
      "|A Medicine for the Mind                 |10.0         |\n",
      "|A Grunt's Life                          |10.0         |\n",
      "|Bu Can Var Oldugu Sürece                |10.0         |\n",
      "|Kirket                                  |10.0         |\n",
      "|Love in Kilnerry                        |10.0         |\n",
      "|The Butcher Baronet                     |10.0         |\n",
      "|Our Scripted Life                       |10.0         |\n",
      "|L'Enfant Terrible                       |10.0         |\n",
      "|The Cardinal                            |9.9          |\n",
      "|Superhombre                             |9.9          |\n",
      "|Puritan: All of Life to The Glory of God|9.9          |\n",
      "|Randhawa                                |9.8          |\n",
      "|Square One                              |9.8          |\n",
      "|Time and motion                         |9.8          |\n",
      "|We Shall Not Die Now                    |9.8          |\n",
      "|Gini Helida Kathe                       |9.8          |\n",
      "|Kamen Rider Zi-O: Over Quartzer         |9.8          |\n",
      "|From Shock to Awe                       |9.8          |\n",
      "+----------------------------------------+-------------+"
     ]
    }
   ],
   "source": [
    "#join ratings and name_info\n",
    "name_ratings = name_info.join(ratings, on='tconst')\n",
    "\n",
    "#filter for 2019 and avg rating > 9.7\n",
    "name_ratings.select('primaryTitle', 'averageRating') \\\n",
    "            .filter((col('startYear') == 2019)) \\\n",
    "            .filter((col('averageRating') > 9.7)) \\\n",
    "            .filter((col('titleType') == 'movie')) \\\n",
    "            .filter((col('startYear') != \"\\\\N\")) \\\n",
    "            .distinct() \\\n",
    "            .withColumn('averageRating', col('averageRating').cast('float')) \\\n",
    "            .orderBy('averageRating', ascending=False) \\\n",
    "            .show(truncate=False)"
   ]
  },
  {
   "cell_type": "markdown",
   "id": "a884583a-e943-48c3-afdc-54ff6f51ff97",
   "metadata": {},
   "source": [
    "## 5) Among the titles in which Clint Eastwood and Harrison Ford have acted, who has the higher average rating?\n",
    "\n",
    "First, calculate the average rating of each actor and then show the actor with higher average rating."
   ]
  },
  {
   "cell_type": "code",
   "execution_count": 58,
   "id": "df2500aa-0304-4170-9ae2-c15d28473c1b",
   "metadata": {
    "execution": {
     "iopub.execute_input": "2023-12-13T05:53:35.562413Z",
     "iopub.status.busy": "2023-12-13T05:53:35.562164Z",
     "iopub.status.idle": "2023-12-13T05:55:19.153685Z",
     "shell.execute_reply": "2023-12-13T05:55:19.152722Z",
     "shell.execute_reply.started": "2023-12-13T05:53:35.562389Z"
    },
    "tags": []
   },
   "outputs": [
    {
     "data": {
      "application/vnd.jupyter.widget-view+json": {
       "model_id": "79ce202d9b2445cba0f6fc9bc0010b34",
       "version_major": 2,
       "version_minor": 0
      },
      "text/plain": [
       "VBox()"
      ]
     },
     "metadata": {},
     "output_type": "display_data"
    },
    {
     "data": {
      "application/vnd.jupyter.widget-view+json": {
       "model_id": "",
       "version_major": 2,
       "version_minor": 0
      },
      "text/plain": [
       "FloatProgress(value=0.0, bar_style='info', description='Progress:', layout=Layout(height='25px', width='50%'),…"
      ]
     },
     "metadata": {},
     "output_type": "display_data"
    },
    {
     "name": "stdout",
     "output_type": "stream",
     "text": [
      "The average rating of Harrison Ford is 6.72\n",
      "The average rating of Clint Eastwood is 7.51\n",
      "Clint Eastwood has a higher average rating"
     ]
    }
   ],
   "source": [
    "harrison = name_ratings.filter((col('primaryName') == 'Harrison Ford')) \\\n",
    "                       .filter((col('category') == 'actor')) \\\n",
    "                       .agg(avg(col('averageRating')).cast('float').alias('avg_rating')) \\\n",
    "                       .collect()[0]['avg_rating']\n",
    "\n",
    "clint = name_ratings.filter((col('primaryName') == 'Clint Eastwood')) \\\n",
    "                    .filter((col('category') == 'actor')) \\\n",
    "                    .agg(avg(col('averageRating')).cast('float').alias('avg_rating')) \\\n",
    "                    .collect()[0]['avg_rating']\n",
    "\n",
    "print(f'The average rating of Harrison Ford is {harrison:.2f}')\n",
    "print(f'The average rating of Clint Eastwood is {clint:.2f}')\n",
    "print(\"Clint Eastwood has a higher average rating\")\n"
   ]
  },
  {
   "cell_type": "markdown",
   "id": "c3fd460a-40ed-459c-b277-26f0e6800bc7",
   "metadata": {},
   "source": [
    "## 6) What is the movie(s) with the highest average rating among those in which Chris Evans has acted?\n",
    "\n",
    "Write your code in a way that it finds and displays all movies with the highest rating, even if there's more than one. "
   ]
  },
  {
   "cell_type": "code",
   "execution_count": 59,
   "id": "bf8a0f2f-3f21-4b4f-bf3a-28d9bc27ab8b",
   "metadata": {
    "execution": {
     "iopub.execute_input": "2023-12-13T05:55:19.155158Z",
     "iopub.status.busy": "2023-12-13T05:55:19.154820Z",
     "iopub.status.idle": "2023-12-13T05:57:04.822770Z",
     "shell.execute_reply": "2023-12-13T05:57:04.821151Z",
     "shell.execute_reply.started": "2023-12-13T05:55:19.155119Z"
    },
    "tags": []
   },
   "outputs": [
    {
     "data": {
      "application/vnd.jupyter.widget-view+json": {
       "model_id": "a3425cda3fc44aa29435baf862af34f7",
       "version_major": 2,
       "version_minor": 0
      },
      "text/plain": [
       "VBox()"
      ]
     },
     "metadata": {},
     "output_type": "display_data"
    },
    {
     "data": {
      "application/vnd.jupyter.widget-view+json": {
       "model_id": "",
       "version_major": 2,
       "version_minor": 0
      },
      "text/plain": [
       "FloatProgress(value=0.0, bar_style='info', description='Progress:', layout=Layout(height='25px', width='50%'),…"
      ]
     },
     "metadata": {},
     "output_type": "display_data"
    },
    {
     "name": "stdout",
     "output_type": "stream",
     "text": [
      "+----------------------+-------------+\n",
      "|primaryTitle          |averageRating|\n",
      "+----------------------+-------------+\n",
      "|Avengers: Endgame     |8.5          |\n",
      "|Avengers: Infinity War|8.5          |\n",
      "+----------------------+-------------+"
     ]
    }
   ],
   "source": [
    "#grab max avg Rating\n",
    "collect_maxrating = (name_ratings\n",
    "    .select('primaryTitle', 'averageRating')\n",
    "    .filter(col('titleType') == 'movie')\n",
    "    .filter(col('primaryName') == 'Chris Evans')\n",
    "    .distinct()\n",
    "    .withColumn('avg_rating', col('averageRating').cast('float'))\n",
    "    .agg(max('avg_rating').alias('max_avg_rating'))\n",
    "    .collect()[0]['max_avg_rating']\n",
    ")\n",
    "\n",
    "#filter where averageRating is equal to the collected maxrating above\n",
    "chris_maxrating = name_ratings.select('primaryTitle', 'averageRating') \\\n",
    "                    .filter(col('titleType') == 'movie') \\\n",
    "                    .filter(col('primaryName') == 'Chris Evans') \\\n",
    "                    .filter(col('averageRating') == collect_maxrating) \\\n",
    "                    .distinct()\n",
    "chris_maxrating.show(truncate=False)"
   ]
  },
  {
   "cell_type": "markdown",
   "id": "c7086f55-9fa0-40ae-8116-e14ea042d402",
   "metadata": {},
   "source": [
    "## 7) What is the percentage of adult titles in which actors and actresses have acted?"
   ]
  },
  {
   "cell_type": "code",
   "execution_count": 60,
   "id": "d4f96666-b6e2-473d-a566-be5001d7031a",
   "metadata": {
    "execution": {
     "iopub.execute_input": "2023-12-13T05:57:04.824026Z",
     "iopub.status.busy": "2023-12-13T05:57:04.823798Z",
     "iopub.status.idle": "2023-12-13T06:00:31.021163Z",
     "shell.execute_reply": "2023-12-13T06:00:31.020325Z",
     "shell.execute_reply.started": "2023-12-13T05:57:04.824003Z"
    },
    "tags": []
   },
   "outputs": [
    {
     "data": {
      "application/vnd.jupyter.widget-view+json": {
       "model_id": "b0c56d07ff0342a0912927403991a916",
       "version_major": 2,
       "version_minor": 0
      },
      "text/plain": [
       "VBox()"
      ]
     },
     "metadata": {},
     "output_type": "display_data"
    },
    {
     "data": {
      "application/vnd.jupyter.widget-view+json": {
       "model_id": "",
       "version_major": 2,
       "version_minor": 0
      },
      "text/plain": [
       "FloatProgress(value=0.0, bar_style='info', description='Progress:', layout=Layout(height='25px', width='50%'),…"
      ]
     },
     "metadata": {},
     "output_type": "display_data"
    },
    {
     "name": "stdout",
     "output_type": "stream",
     "text": [
      "The percentage of adult titles for actors: 1.37%\n",
      "The percentage of adult titles for actresses: 3.59%"
     ]
    }
   ],
   "source": [
    "#filter and count actor\n",
    "actor = name_ratings.filter(col('category') == 'actor')\n",
    "actor_count = name_ratings.filter(col('category') == 'actor').count()\n",
    "#filter and count adult actor\n",
    "actor_adult = actor.filter(col('isAdult') == '1')\n",
    "actor_adultcount = actor_adult.count()\n",
    "\n",
    "                               \n",
    "#filter and count actress\n",
    "actress = name_ratings.filter(col('category') == 'actress')\n",
    "actress_count = name_ratings.filter(col('category') == 'actress').count()                      \n",
    "#filter and count adult actress                                 \n",
    "actress_adult = actress.filter(col('isAdult') == '1')\n",
    "actress_adultcount = actress_adult.count()\n",
    "                                 \n",
    "#calculate percentages of adult titles for actor/actress          \n",
    "actor_percentage = actor_adultcount / actor_count * 100\n",
    "actress_percentage = actress_adultcount / actress_count * 100\n",
    "                                 \n",
    "#print results                             \n",
    "print(f'The percentage of adult titles for actors: {actor_percentage:.2f}%')\n",
    "print(f'The percentage of adult titles for actresses: {actress_percentage:.2f}%')\n"
   ]
  },
  {
   "cell_type": "markdown",
   "id": "08ea8545-0511-472e-b225-c3af64237cd5",
   "metadata": {},
   "source": [
    "## 8) What are the top 10 movie genres with the shortest average runtime?\n",
    "\n",
    "You do not need to join tables in this question."
   ]
  },
  {
   "cell_type": "code",
   "execution_count": 61,
   "id": "067686da-7232-426a-a922-6ca7bca99ab1",
   "metadata": {
    "execution": {
     "iopub.execute_input": "2023-12-13T06:00:31.022448Z",
     "iopub.status.busy": "2023-12-13T06:00:31.022196Z",
     "iopub.status.idle": "2023-12-13T06:00:38.308884Z",
     "shell.execute_reply": "2023-12-13T06:00:38.308074Z",
     "shell.execute_reply.started": "2023-12-13T06:00:31.022417Z"
    },
    "tags": []
   },
   "outputs": [
    {
     "data": {
      "application/vnd.jupyter.widget-view+json": {
       "model_id": "e05d4b87e0dc4a6388e30664a49cee61",
       "version_major": 2,
       "version_minor": 0
      },
      "text/plain": [
       "VBox()"
      ]
     },
     "metadata": {},
     "output_type": "display_data"
    },
    {
     "data": {
      "application/vnd.jupyter.widget-view+json": {
       "model_id": "",
       "version_major": 2,
       "version_minor": 0
      },
      "text/plain": [
       "FloatProgress(value=0.0, bar_style='info', description='Progress:', layout=Layout(height='25px', width='50%'),…"
      ]
     },
     "metadata": {},
     "output_type": "display_data"
    },
    {
     "name": "stdout",
     "output_type": "stream",
     "text": [
      "+-----------+-------------------+\n",
      "|genre      |avg(runtimeMinutes)|\n",
      "+-----------+-------------------+\n",
      "|Short      |18.67              |\n",
      "|News       |66.85              |\n",
      "|Documentary|72.68              |\n",
      "|Reality-TV |76.28              |\n",
      "|Adult      |77.18              |\n",
      "|Western    |79.36              |\n",
      "|Talk-Show  |79.43              |\n",
      "|Animation  |80.75              |\n",
      "|Biography  |81.05              |\n",
      "|Film-Noir  |83.76              |\n",
      "+-----------+-------------------+\n",
      "only showing top 10 rows"
     ]
    }
   ],
   "source": [
    "shortest_runtime = new_titles.select('genre', 'runtimeMinutes')\\\n",
    "    .filter(col('titleType') == 'movie')\\\n",
    "    .filter(col('genre') != \"\\\\N\")\\\n",
    "    .groupBy('genre')\\\n",
    "    .agg(format_number(mean('runtimeMinutes'), 2).alias(\"avg(runtimeMinutes)\"))\\\n",
    "    .orderBy('avg(runtimeMinutes)')\n",
    "\n",
    "shortest_runtime.show(10, truncate=False)\n"
   ]
  },
  {
   "cell_type": "markdown",
   "id": "867fc752-8ad8-41dd-a21d-bbae10f7295b",
   "metadata": {},
   "source": [
    "## 9) What are the most common character names for actors and actresses in Romance movies?"
   ]
  },
  {
   "cell_type": "code",
   "execution_count": 62,
   "id": "c757d669-506b-413e-94e0-ee8908fe4327",
   "metadata": {
    "execution": {
     "iopub.execute_input": "2023-12-13T06:00:38.310396Z",
     "iopub.status.busy": "2023-12-13T06:00:38.310037Z",
     "iopub.status.idle": "2023-12-13T06:01:57.809306Z",
     "shell.execute_reply": "2023-12-13T06:01:57.808489Z",
     "shell.execute_reply.started": "2023-12-13T06:00:38.310359Z"
    },
    "tags": []
   },
   "outputs": [
    {
     "data": {
      "application/vnd.jupyter.widget-view+json": {
       "model_id": "80337449b3e74a9aa9aa15659472b61c",
       "version_major": 2,
       "version_minor": 0
      },
      "text/plain": [
       "VBox()"
      ]
     },
     "metadata": {},
     "output_type": "display_data"
    },
    {
     "data": {
      "application/vnd.jupyter.widget-view+json": {
       "model_id": "",
       "version_major": 2,
       "version_minor": 0
      },
      "text/plain": [
       "FloatProgress(value=0.0, bar_style='info', description='Progress:', layout=Layout(height='25px', width='50%'),…"
      ]
     },
     "metadata": {},
     "output_type": "display_data"
    },
    {
     "name": "stdout",
     "output_type": "stream",
     "text": [
      "+--------+-----+----------+\n",
      "|category|count|characters|\n",
      "+--------+-----+----------+\n",
      "|actress |193  |[\"Anna\"]  |\n",
      "|actor   |138  |[\"David\"] |\n",
      "+--------+-----+----------+"
     ]
    }
   ],
   "source": [
    "#get name count\n",
    "name_counts = name_ratings.select('category', 'characters')\\\n",
    "                .filter(col('titleType') == \"movie\")\\\n",
    "                .filter(col('genre') == \"Romance\")\\\n",
    "                .filter(col('characters') != \"\\\\N\")\\\n",
    "                .groupBy('category', 'characters')\\\n",
    "                .count()\\\n",
    "                .orderBy('count', ascending=False)\n",
    "\n",
    "#get top actor and actress names\n",
    "top_actorname = name_counts.select(\"*\").filter(col('category') == 'actor')\\\n",
    "                            .orderBy('count', ascending=False)\\\n",
    "                            .limit(1)\n",
    "top_actressname = name_counts.select(\"*\").filter(col('category') == 'actress')\\\n",
    "                            .orderBy('count', ascending=False)\\\n",
    "                            .limit(1)\n",
    "#merge top actor and top actress name\n",
    "merge_names = top_actorname.union(top_actressname)\n",
    "\n",
    "#return df\n",
    "merge_names.select('category','count','characters').orderBy('count', ascending=False).show(truncate=False)\n"
   ]
  }
 ],
 "metadata": {
  "kernelspec": {
   "display_name": "PySpark",
   "language": "python",
   "name": "pysparkkernel"
  },
  "language_info": {
   "codemirror_mode": {
    "name": "python",
    "version": 3
   },
   "file_extension": ".py",
   "mimetype": "text/x-python",
   "name": "pyspark",
   "pygments_lexer": "python3"
  },
  "toc-autonumbering": false,
  "toc-showmarkdowntxt": false
 },
 "nbformat": 4,
 "nbformat_minor": 5
}
